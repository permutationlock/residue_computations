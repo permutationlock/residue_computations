{
 "cells":[
  {
   "cell_type":"markdown",
   "metadata":{},
   "source":[
    "### Finding power series expansions along exceptional components\n",
    "------------------------------------------------------------------------------------------\n",
    "First we define the surface, for now only in affine form. This is the surface Wittenberg works with in his article"
   ]
  },
  {
   "cell_type":"code",
   "metadata":{},
   "outputs":[],
   "source":[
    "A3<x,y,t>:=AffineSpace(Rationals(),3);\n",
    "p:=3*(t-1)^3*(t+3);\n",
    "q:=Evaluate(p,[x,y,-t]);\n",
    "F:=y^2-x*(x-p)*(x-q);\n",
    "E:=Surface(A3,F);"
   ]
  },
  {
   "cell_type":"markdown",
   "metadata":{},
   "source":[
    "We check the discriminant of the elliptic curve. We need to do some hacky algebra to extract the polynomial we're interested in."
   ]
  },
  {
   "cell_type":"code",
   "metadata":{},
   "outputs":[],
   "source":[
    "Factorization(Discriminant(F-y^2,x));"
   ]
  },
  {
   "cell_type":"markdown",
   "metadata":{},
   "source":[
    "Singular subscheme, and some of the points in the support"
   ]
  },
  {
   "cell_type":"code",
   "metadata":{},
   "outputs":[],
   "source":[
    "Support(SingularSubscheme(E));"
   ]
  },
  {
   "cell_type":"code",
   "metadata":{},
   "outputs":[],
   "source":[
    "Etilde:=DesingulariseSurfaceByBlowUp(E);"
   ]
  },
  {
   "cell_type":"code",
   "metadata":{},
   "outputs":[],
   "source":[
    "function GetInitialTerm(f)\n",
    "    if Valuation(f) eq 0 then\n",
    "        return Coefficients(f)[1];\n",
    "    else\n",
    "        return Coefficients(f)[Valuation(f)];\n",
    "    end if;\n",
    "end function;\n",
    "\n",
    "function ComputeResidue(f, g)\n",
    "    vf:=Valuation(f);\n",
    "    vg:=Valuation(g);\n",
    "    \n",
    "    f_0:=GetInitialTerm(f);\n",
    "    g_0:=GetInitialTerm(g);\n",
    "    \n",
    "    return f_0^(vg)*g_0^(vf)*(-1)^(vf*vg);\n",
    "end function;"
   ]
  },
  {
   "cell_type":"markdown",
   "metadata":{},
   "source":[
    "### Computing residue at (-9, 0, 0) "
   ]
  },
  {
   "cell_type":"markdown",
   "metadata":{},
   "source":[
    "We unpack some of the desingularization data here. We pick one exceptional component L on a patch Y of the desingularization $\\tilde{X}$ of X, together with the morphism $\\pi: Y \\to X$."
   ]
  },
  {
   "cell_type":"code",
   "metadata":{},
   "outputs":[],
   "source":[
    "L,Y,pi:=BlowUpDivisor(E,Etilde[1],1);\n",
    "A3<T,V,W>:=Ambient(Y);"
   ]
  },
  {
   "cell_type":"markdown",
   "metadata":{},
   "source":[
    "We define a rational function field that we use to parametrize the exceptional component L with"
   ]
  },
  {
   "cell_type":"code",
   "metadata":{},
   "outputs":[],
   "source":[
    "kU<U>:=FunctionField(Rationals(),1);"
   ]
  },
  {
   "cell_type":"markdown",
   "metadata":{},
   "source":[
    "We write down a parametrization of L and check that it satisfies that parametrization. In particular, we see that \"V\" on Y vanishes on L (we'll see we can use it as a uniformizer at the generic point of L)"
   ]
  },
  {
   "cell_type":"code",
   "metadata":{},
   "outputs":[],
   "source":[
    "Vu:=3/2*(U^2-1)/U;\n",
    "Wu:=1/48*(U^2+1)/U;\n",
    "assert forall{f: f in DefiningPolynomials(L) |Evaluate(f,[0,Vu,Wu]) eq 0};"
   ]
  },
  {
   "cell_type":"code",
   "metadata":{},
   "outputs":[],
   "source":[
    "kUT<Tu>:=PowerSeriesRing(kU);"
   ]
  },
  {
   "cell_type":"code",
   "metadata":{},
   "outputs":[],
   "source":[
    "R<Wpol>:=PolynomialRing(kUT);"
   ]
  },
  {
   "cell_type":"markdown",
   "metadata":{},
   "source":[
    "Another assumption: We set W to be the function in U that we need and we solve T as a power series in $k( U)[[V]]$ from the equation that we have. If V were not a valid choice as uniformizer, we'd probably fail to solve this equation at this point. Below we just compute all the roots and take the one close to the expression Tu that we already computed (because we know our series for T should specialize to Tu on L for V=0). It would be better to explicitly use newton iteration with initial approximation Tu."
   ]
  },
  {
   "cell_type":"code",
   "metadata":{},
   "outputs":[],
   "source":[
    "F:=Evaluate(DefiningPolynomial(Y), [Tu, Vu, Wpol]);\n",
    "Fprime:=Derivative(F);\n",
    "for i in [1..4] do\n",
    "    Temp:=Wu-Evaluate(F, Wu)/Evaluate(Fprime,Wu);\n",
    "    Wu:=Temp;\n",
    "end for;"
   ]
  },
  {
   "cell_type":"markdown",
   "metadata":{},
   "source":[
    "We verify that the power series in $k(U)[[V]]$ that we have computed, indeed satisfy the defining polynomial for $Y$."
   ]
  },
  {
   "cell_type":"code",
   "metadata":{
    "scrolled":true
   },
   "outputs":[],
   "source":[
    "Evaluate(DefiningPolynomial(Y),[Tu,Vu,Wu])+O(Tu^(10));"
   ]
  },
  {
   "cell_type":"markdown",
   "metadata":{},
   "source":[
    "In order to relate all this back to the original coordinates on X, we use the description of pi, that expresses $X,Y,T$ in terms of $V,W,T$ (apologies for the mess-up in naming here: the two $T$s are not the same), and since we have the latter as power series, we can substitute them to get the required results."
   ]
  },
  {
   "cell_type":"code",
   "metadata":{},
   "outputs":[],
   "source":[
    "Xu:=Evaluate(DefiningPolynomials(pi)[1], [Tu, Vu, Wu]);\n",
    "Yu:=Evaluate(DefiningPolynomials(pi)[2], [Tu, Vu, Wu]);\n",
    "Tu:=Evaluate(DefiningPolynomials(pi)[3], [Tu, Vu, Wu]);"
   ]
  },
  {
   "cell_type":"code",
   "metadata":{},
   "outputs":[],
   "source":[
    "Pu:=Evaluate(p, [0,0,Tu]);\n",
    "Qu:=Evaluate(p, [0,0,-Tu]);\n",
    "f1:=Xu-Pu;\n",
    "f2:=Xu-Qu;\n",
    "\n",
    "g1:=Evaluate(6*t*(t+1), [0,0,Tu]);\n",
    "g2:=Evaluate(6*t*(t-1), [0,0,Tu]);"
   ]
  },
  {
   "cell_type":"code",
   "metadata":{},
   "outputs":[],
   "source":[
    "res:=ComputeResidue(f1, g1)*ComputeResidue(f2, g2);\n",
    "res;"
   ]
  },
  {
   "cell_type":"markdown",
   "metadata":{},
   "source":[
    "Finally we observe that the residue is in fact a square, and therefore trivial."
   ]
  },
  {
   "cell_type":"code",
   "metadata":{},
   "outputs":[],
   "source":[
    "Factorization(Numerator(res));\n",
    "Factorization(Denominator(res));\n",
    "Factorization(Integers() ! Coefficients(Numerator(res))[1]);"
   ]
  },
  {
   "cell_type":"markdown",
   "metadata":{},
   "source":[
    "### Computing residue at (0, 0, -3) "
   ]
  },
  {
   "cell_type":"markdown",
   "metadata":{},
   "source":[
    "We now pick the exceptional component L on the patch Y over $(0, -3, 0)$ of the desingularization $\\tilde{E}$ of E, together with the morphism $\\pi: Y \\to X$."
   ]
  },
  {
   "cell_type":"code",
   "metadata":{},
   "outputs":[],
   "source":[
    "L,Y,pi:=BlowUpDivisor(E,Etilde[2],1);\n",
    "A3<X,V,W>:=Ambient(Y);"
   ]
  },
  {
   "cell_type":"markdown",
   "metadata":{},
   "source":[
    "We define a rational function field that we use to parametrize the exceptional component L with"
   ]
  },
  {
   "cell_type":"code",
   "metadata":{},
   "outputs":[],
   "source":[
    "kU<U>:=FunctionField(Rationals(),1);"
   ]
  },
  {
   "cell_type":"markdown",
   "metadata":{},
   "source":[
    "We write down a parametrization of L and check that it satisfies that parametrization. In particular, we see that \"V\" on Y vanishes on L (we'll see we can use it as a uniformizer at the generic point of L)"
   ]
  },
  {
   "cell_type":"code",
   "metadata":{},
   "outputs":[],
   "source":[
    "L;"
   ]
  },
  {
   "cell_type":"markdown",
   "metadata":{},
   "source":[
    "Below we find a parametrization of $L$."
   ]
  },
  {
   "cell_type":"code",
   "metadata":{},
   "outputs":[],
   "source":[
    "Lc,phiL:=Conic(ProjectiveClosure(L));\n",
    "piL:=Parametrization(Lc);\n",
    "Q<x, v, w>:=FunctionField(L);\n",
    "kU<U>:=FunctionField(Domain(piL));\n",
    "Vu:=Pullback(piL, Pullback(Inverse(phiL), v));\n",
    "Wu:=Pullback(piL, Pullback(Inverse(phiL), w));\n",
    "assert forall{f: f in DefiningPolynomials(L) |Evaluate(f,[0,Vu,Wu]) eq 0};\n",
    "Vu;\n",
    "Wu;"
   ]
  },
  {
   "cell_type":"code",
   "metadata":{},
   "outputs":[],
   "source":[
    "kUX<Xu>:=PowerSeriesRing(kU);"
   ]
  },
  {
   "cell_type":"code",
   "metadata":{},
   "outputs":[],
   "source":[
    "R<Wpol>:=PolynomialRing(kUX);"
   ]
  },
  {
   "cell_type":"markdown",
   "metadata":{},
   "source":[
    "Another assumption: We set W to be the function in U that we need and we solve T as a power series in $k( U)[[V]]$ from the equation that we have. If V were not a valid choice as uniformizer, we'd probably fail to solve this equation at this point. Below we just compute all the roots and take the one close to the expression Tu that we already computed (because we know our series for T should specialize to Tu on L for V=0). It would be better to explicitly use newton iteration with initial approximation Tu."
   ]
  },
  {
   "cell_type":"code",
   "metadata":{},
   "outputs":[],
   "source":[
    "F:=Evaluate(DefiningPolynomial(Y), [Xu, Vu, Wpol]);\n",
    "Fprime:=Derivative(F);\n",
    "for i in [1..4] do\n",
    "    Temp:=Wu-Evaluate(F, Wu)/Evaluate(Fprime,Wu);\n",
    "    Wu:=Temp;\n",
    "end for;"
   ]
  },
  {
   "cell_type":"markdown",
   "metadata":{},
   "source":[
    "We verify that the power series in $k(U)[[V]]$ that we have computed, indeed satisfy the defining polynomial for $Y$."
   ]
  },
  {
   "cell_type":"code",
   "metadata":{
    "scrolled":true
   },
   "outputs":[],
   "source":[
    "Evaluate(DefiningPolynomial(Y),[Xu,Vu,Wu])+O(Xu^8);"
   ]
  },
  {
   "cell_type":"markdown",
   "metadata":{},
   "source":[
    "In order to relate all this back to the original coordinates on X, we use the description of pi, that expresses $X,Y,T$ in terms of $V,W,T$ (apologies for the mess-up in naming here: the two $T$s are not the same), and since we have the latter as power series, we can substitute them to get the required results."
   ]
  },
  {
   "cell_type":"code",
   "metadata":{},
   "outputs":[],
   "source":[
    "Xu:=Evaluate(DefiningPolynomials(pi)[1], [Xu, Vu, Wu]);\n",
    "Yu:=Evaluate(DefiningPolynomials(pi)[2], [Xu, Vu, Wu]);\n",
    "Tu:=Evaluate(DefiningPolynomials(pi)[3], [Xu, Vu, Wu]);"
   ]
  },
  {
   "cell_type":"code",
   "metadata":{},
   "outputs":[],
   "source":[
    "Pu:=Evaluate(p, [0,0,Tu]);\n",
    "Qu:=Evaluate(p, [0,0,-Tu]);\n",
    "f1:=Xu-Pu;\n",
    "f2:=Xu-Qu;\n",
    "\n",
    "g1:=Evaluate(6*t*(t+1), [0,0,Tu]);\n",
    "g2:=Evaluate(6*t*(t-1), [0,0,Tu]);"
   ]
  },
  {
   "cell_type":"code",
   "metadata":{},
   "outputs":[],
   "source":[
    "res:=ComputeResidue(f1, g1)*ComputeResidue(f2, g2);\n",
    "res;"
   ]
  },
  {
   "cell_type":"markdown",
   "metadata":{},
   "source":[
    "Here the residue is immediately seen to be a square."
   ]
  },
  {
   "cell_type":"markdown",
   "metadata":{},
   "source":[
    "## Computing residues at (0, 0, -1) "
   ]
  },
  {
   "cell_type":"markdown",
   "metadata":{},
   "source":[
    "### Patch 1"
   ]
  },
  {
   "cell_type":"markdown",
   "metadata":{},
   "source":[
    "Here we pick the component L on the first affine patch Y over $(0,-3,0)$ of the desingularization $\\tilde{X}$ of X, together with the morphism $\\pi: Y \\to X$."
   ]
  },
  {
   "cell_type":"code",
   "metadata":{},
   "outputs":[],
   "source":[
    "L,Y,pi:=BlowUpDivisor(E,Etilde[3],1);"
   ]
  },
  {
   "cell_type":"markdown",
   "metadata":{},
   "source":[
    "Looking at the equation of $L$ we note that it has no rational points and is geometrically reducible. This means that the residue field $k(L)$ will be of the form $k(u)$ with $k$ some finite extension of $\\mathbb{Q}$; in our case $k=\\mathbb{Q}(\\sqrt{48})=\\mathbb{Q}(\\sqrt{3})$."
   ]
  },
  {
   "cell_type":"code",
   "metadata":{},
   "outputs":[],
   "source":[
    "A3<X,V,W>:=Ambient(Y);\n",
    "L;\n",
    "pi;"
   ]
  },
  {
   "cell_type":"markdown",
   "metadata":{},
   "source":[
    "Note that $L:V^2-48=0, X=0$ has no rational points and is geometrically reducible. In particular, one can work out that the residue field is $\\kappa(L)=k(W)$ where $k=\\mathbb{Q}(a)$ and $a$ is a square root of $3$. Below we define the extension $k/\\mathbb{Q}$ as well as a rational function field that we will use to parametrize the exceptional component L with."
   ]
  },
  {
   "cell_type":"code",
   "metadata":{},
   "outputs":[],
   "source":[
    "k<a>:=QuadraticField(48);\n",
    "kU<U>:=FunctionField(k,1);\n",
    "Wu:=U;"
   ]
  },
  {
   "cell_type":"code",
   "metadata":{},
   "outputs":[],
   "source":[
    "kUX<Xu>:=PowerSeriesRing(kU);"
   ]
  },
  {
   "cell_type":"code",
   "metadata":{},
   "outputs":[],
   "source":[
    "R<Vpol>:=PolynomialRing(kUX);"
   ]
  },
  {
   "cell_type":"markdown",
   "metadata":{},
   "source":[
    "By definition we have an expression for $X$ and $W$ in $k(U)(Xu)$ as $W=U$ and $X=Xu$. It remains to find an expansion for $V$. From our observations above we note that when taking residues $\\overline{V}=a=\\sqrt{3}\\in k(W)$, as we mod out by $V^2-48$, and so we have a first order approximation. Applying Newton iteration gives us enough terms to compute residues."
   ]
  },
  {
   "cell_type":"code",
   "metadata":{},
   "outputs":[],
   "source":[
    "F:=Evaluate(DefiningPolynomial(Y), [Xu, Vpol, Wu]);\n",
    "Fprime:=Derivative(F);\n",
    "Vu:=4*a;\n",
    "for i in [1..4] do\n",
    "    Temp:=Vu-Evaluate(F, Vu)/Evaluate(Fprime,Vu);\n",
    "    Vu:=Temp;\n",
    "end for;"
   ]
  },
  {
   "cell_type":"markdown",
   "metadata":{},
   "source":[
    "We verify that the power series $Xu,Vu,Wu$ in $k(U)[[Xu]]$ that we have computed, indeed satisfy the defining polynomial for $Y$."
   ]
  },
  {
   "cell_type":"code",
   "metadata":{
    "scrolled":true
   },
   "outputs":[],
   "source":[
    "Evaluate(DefiningPolynomial(Y),[Xu,Vu,Wu])+O(Xu^10);"
   ]
  },
  {
   "cell_type":"markdown",
   "metadata":{},
   "source":[
    "In order to relate all this back to the original coordinates on X, we use the description of pi, that expresses $X,Y,T$ in terms of $X,V,W$, and since we have the latter as power series, we can substitute them to get the required results."
   ]
  },
  {
   "cell_type":"code",
   "metadata":{},
   "outputs":[],
   "source":[
    "Xu:=Evaluate(DefiningPolynomials(pi)[1], [Xu, Vu, Wu]);\n",
    "Yu:=Evaluate(DefiningPolynomials(pi)[2], [Xu, Vu, Wu]);\n",
    "Tu:=Evaluate(DefiningPolynomials(pi)[3], [Xu, Vu, Wu]);"
   ]
  },
  {
   "cell_type":"markdown",
   "metadata":{},
   "source":[
    "We now compute power series for our desired functions $X-p(T), X-q(T), 6T(T+1), 6T(T-1)$ in order to compute residues."
   ]
  },
  {
   "cell_type":"code",
   "metadata":{},
   "outputs":[],
   "source":[
    "Pu:=Evaluate(p, [0,0,Tu]);\n",
    "Qu:=Evaluate(p, [0,0,-Tu]);\n",
    "f1:=Xu-Pu;\n",
    "f2:=Xu-Qu;\n",
    "\n",
    "g1:=Evaluate(6*t*(t+1), [0,0,Tu]);\n",
    "g2:=Evaluate(6*t*(t-1), [0,0,Tu]);"
   ]
  },
  {
   "cell_type":"markdown",
   "metadata":{},
   "source":[
    "Finally, we compute the residue of the Brauer class $(f_1,g_1)+(f_2,g_2)$ with $f_1=X-p(T)$, $f_2=X-Q(T)$, $g_1=6T(T+1)$, and $g_2=6T(T-1)$ via the residue formula $\\text{res}(f,g)=[(-1)^{v(f)v(g)}f_0^{v(g)}g_0^{v(f)}]$ where $f_0,g_0$ are the first nonzero coefficient in the power series expansion of $f_0,g_0$, and we take the equivalence class in $k(U)/k(U)^2$."
   ]
  },
  {
   "cell_type":"code",
   "metadata":{},
   "outputs":[],
   "source":[
    "res:=ComputeResidue(f1, g1)*ComputeResidue(f2, g2);\n",
    "res;\n",
    "Factorization(Integers() ! res);"
   ]
  },
  {
   "cell_type":"markdown",
   "metadata":{},
   "source":[
    "Thus again we see that the residue is trivial."
   ]
  },
  {
   "cell_type":"markdown",
   "metadata":{},
   "source":[
    "### Patch 2"
   ]
  },
  {
   "cell_type":"markdown",
   "metadata":{},
   "source":[
    "Here we pick the component L on the second affine patch Y over $(0,-3,0)$ of the desingularization $\\tilde{X}$ of X, together with the morphism $\\pi: Y \\to X$."
   ]
  },
  {
   "cell_type":"code",
   "metadata":{},
   "outputs":[],
   "source":[
    "L,Y,pi:=BlowUpDivisor(E,Etilde[3],2);"
   ]
  },
  {
   "cell_type":"markdown",
   "metadata":{},
   "source":[
    "Looking at the equation of $L$ we note that it has no rational points and is geometrically reducible. This means that the residue field $k(L)$ will be of the form $k(u)$ with $k$ some finite extension of $\\mathbb{Q}$; in our case $k=\\mathbb{Q}(\\sqrt{48})=\\mathbb{Q}(\\sqrt{3})$."
   ]
  },
  {
   "cell_type":"code",
   "metadata":{},
   "outputs":[],
   "source":[
    "A3<X,V,W>:=Ambient(Y);\n",
    "L;\n",
    "pi;"
   ]
  },
  {
   "cell_type":"markdown",
   "metadata":{},
   "source":[
    "We define the extension $k/\\mathbb{Q}$ as well as a rational function field that we will use to parametrize the exceptional component L with."
   ]
  },
  {
   "cell_type":"code",
   "metadata":{},
   "outputs":[],
   "source":[
    "k<a>:=QuadraticField(48);\n",
    "kU<U>:=FunctionField(k,1);\n",
    "Vu:=U;"
   ]
  },
  {
   "cell_type":"code",
   "metadata":{},
   "outputs":[],
   "source":[
    "kUX<Xu>:=PowerSeriesRing(kU);"
   ]
  },
  {
   "cell_type":"code",
   "metadata":{},
   "outputs":[],
   "source":[
    "R<Wpol>:=PolynomialRing(kUX);"
   ]
  },
  {
   "cell_type":"markdown",
   "metadata":{},
   "source":[
    "By definition we have an expression for $X$ and $W$ in $k(U)(Xu)$ as $W=U$ and $X=Xu$. It remains to find an expansion for $V$. We note that when taking residues we have $\\overline{V}=a=\\sqrt{3}$, as we mod out by $V^2-48$, and so we have a first order approximation. Applying Newton iteration gives us enough terms to compute residues."
   ]
  },
  {
   "cell_type":"code",
   "metadata":{},
   "outputs":[],
   "source":[
    "F:=Evaluate(DefiningPolynomial(Y), [Xu, Vu, Wpol]);\n",
    "Fprime:=Derivative(F);\n",
    "Wu:=4*a;\n",
    "for i in [1..4] do\n",
    "    Temp:=Wu-Evaluate(F, Wu)/Evaluate(Fprime,Wu);\n",
    "    Wu:=Temp;\n",
    "end for;"
   ]
  },
  {
   "cell_type":"markdown",
   "metadata":{},
   "source":[
    "We verify that the power series $Xu,Vu,Wu$ in $k(U)[[Xu]]$ that we have computed, indeed satisfy the defining polynomial for $Y$."
   ]
  },
  {
   "cell_type":"code",
   "metadata":{
    "scrolled":true
   },
   "outputs":[],
   "source":[
    "Evaluate(DefiningPolynomial(Y),[Xu,Vu,Wu])+O(Xu^10);"
   ]
  },
  {
   "cell_type":"markdown",
   "metadata":{},
   "source":[
    "In order to relate all this back to the original coordinates on X, we use the description of pi, that expresses $X,Y,T$ in terms of $X,V,W$, and since we have the latter as power series, we can substitute them to get the required results."
   ]
  },
  {
   "cell_type":"code",
   "metadata":{},
   "outputs":[],
   "source":[
    "Xu:=Evaluate(DefiningPolynomials(pi)[1], [Xu, Vu, Wu]);\n",
    "Yu:=Evaluate(DefiningPolynomials(pi)[2], [Xu, Vu, Wu]);\n",
    "Tu:=Evaluate(DefiningPolynomials(pi)[3], [Xu, Vu, Wu]);"
   ]
  },
  {
   "cell_type":"markdown",
   "metadata":{},
   "source":[
    "We now compute power series for our desired functions $X-p(T), X-q(T), 6T(T+1), 6T(T-1)$ in order to compute residues."
   ]
  },
  {
   "cell_type":"code",
   "metadata":{},
   "outputs":[],
   "source":[
    "Pu:=Evaluate(p, [0,0,Tu]);\n",
    "Qu:=Evaluate(p, [0,0,-Tu]);\n",
    "f1:=Xu-Pu;\n",
    "f2:=Xu-Qu;\n",
    "\n",
    "g1:=Evaluate(6*t*(t+1), [0,0,Tu]);\n",
    "g2:=Evaluate(6*t*(t-1), [0,0,Tu]);"
   ]
  },
  {
   "cell_type":"markdown",
   "metadata":{},
   "source":[
    "Finally, we compute the residue of the Brauer class $(f_1,g_1)+(f_2,g_2)$ with $f_1=X-p(T)$, $f_2=X-Q(T)$, $g_1=6T(T+1)$, and $g_2=6T(T-1)$ via the residue formula $\\text{res}(f,g)=[(-1)^{v(f)v(g)}f_0^{v(g)}g_0^{v(f)}]$ where $f_0,g_0$ are the first nonzero coefficient in the power series expansion of $f_0,g_0$, and we take the equivalence class in $k(U)/k(U)^2$."
   ]
  },
  {
   "cell_type":"code",
   "metadata":{},
   "outputs":[],
   "source":[
    "res:=ComputeResidue(f1, g1)*ComputeResidue(f2, g2);\n",
    "res;"
   ]
  },
  {
   "cell_type":"code",
   "metadata":{},
   "outputs":[],
   "source":[
    "Factorization(Integers() ! res);"
   ]
  },
  {
   "cell_type":"markdown",
   "metadata":{},
   "source":[
    "Once again, the residue is trivial."
   ]
  },
  {
   "cell_type":"markdown",
   "metadata":{},
   "source":[
    "### Patch 3"
   ]
  },
  {
   "cell_type":"markdown",
   "metadata":{},
   "source":[
    "Here we pick the component L on the third affine patch Y over $(0,-3,0)$ of the desingularization $\\tilde{X}$ of X, together with the morphism $\\pi: Y \\to X$."
   ]
  },
  {
   "cell_type":"code",
   "metadata":{},
   "outputs":[],
   "source":[
    "L,Y,pi:=BlowUpDivisor(E,Etilde[3],3);"
   ]
  },
  {
   "cell_type":"markdown",
   "metadata":{},
   "source":[
    "Looking at the equation of $L$ we note that it has no rational points and is geometrically reducible. This means that the residue field $k(L)$ will be of the form $k(u)$ with $k$ some finite extension of $\\mathbb{Q}$; in our case $k=\\mathbb{Q}(\\sqrt{48})=\\mathbb{Q}(\\sqrt{3})$."
   ]
  },
  {
   "cell_type":"code",
   "metadata":{},
   "outputs":[],
   "source":[
    "A3<T,V,W>:=Ambient(Y);\n",
    "L;\n",
    "pi;"
   ]
  },
  {
   "cell_type":"markdown",
   "metadata":{},
   "source":[
    "We write down a parametrization of our conic $L$. For the parametrization below we took the projective closure and projected away from the rational point $[0,0,1]$."
   ]
  },
  {
   "cell_type":"code",
   "metadata":{},
   "outputs":[],
   "source":[
    "kU<U>:=FunctionField(Rationals(), 1);\n",
    "Vu:=(-6*U^2-1/8)/(-U^2+1/48)-6;\n",
    "Wu:=-12*U/(-U^2+1/48);\n",
    "assert forall{f: f in DefiningPolynomials(L) |Evaluate(f,[-1,Vu,Wu]) eq 0};"
   ]
  },
  {
   "cell_type":"code",
   "metadata":{},
   "outputs":[],
   "source":[
    "kUT<Tu>:=PowerSeriesRing(kU);"
   ]
  },
  {
   "cell_type":"code",
   "metadata":{},
   "outputs":[],
   "source":[
    "R<Wpol>:=PolynomialRing(kUT);"
   ]
  },
  {
   "cell_type":"markdown",
   "metadata":{},
   "source":[
    "Now we compute an expansion for $W$ in $\\mathbb{Q}(U)[[T]]$."
   ]
  },
  {
   "cell_type":"code",
   "metadata":{},
   "outputs":[],
   "source":[
    "F:=Evaluate(DefiningPolynomial(Y), [Tu-1, Vu, Wpol]);\n",
    "Fprime:=Derivative(F);\n",
    "for i in [1..2] do\n",
    "    Temp:=Wu-Evaluate(F, Wu)/Evaluate(Fprime,Wu);\n",
    "    Wu:=Temp;\n",
    "end for;"
   ]
  },
  {
   "cell_type":"markdown",
   "metadata":{},
   "source":[
    "We verify that the power series $Tu-1,Vu,Wu$ in $k(U)[[Tu]]$ that we have computed, indeed satisfy the defining polynomial for $Y$."
   ]
  },
  {
   "cell_type":"code",
   "metadata":{
    "scrolled":true
   },
   "outputs":[],
   "source":[
    "Evaluate(DefiningPolynomial(Y),[Tu-1,Vu,Wu])+O(Tu^2);"
   ]
  },
  {
   "cell_type":"markdown",
   "metadata":{},
   "source":[
    "In order to relate all this back to the original coordinates on X, we use the description of pi, that expresses $X,Y,T$ in terms of $X,V,W$, and since we have the latter as power series, we can substitute them to get the required results."
   ]
  },
  {
   "cell_type":"code",
   "metadata":{},
   "outputs":[],
   "source":[
    "Xu:=Evaluate(DefiningPolynomials(pi)[1], [Tu, Vu, Wu]);\n",
    "Yu:=Evaluate(DefiningPolynomials(pi)[2], [Tu, Vu, Wu]);\n",
    "Tu:=Evaluate(DefiningPolynomials(pi)[3], [Tu, Vu, Wu]);"
   ]
  },
  {
   "cell_type":"markdown",
   "metadata":{},
   "source":[
    "We now compute power series for our desired functions $X-p(T), X-q(T), 6T(T+1), 6T(T-1)$ in order to compute residues."
   ]
  },
  {
   "cell_type":"code",
   "metadata":{},
   "outputs":[],
   "source":[
    "Pu:=Evaluate(p, [0,0,Tu]);\n",
    "Qu:=Evaluate(p, [0,0,-Tu]);\n",
    "f1:=Xu-Pu;\n",
    "f2:=Xu-Qu;\n",
    "\n",
    "g1:=Evaluate(6*t*(t+1), [0,0,Tu]);\n",
    "g2:=Evaluate(6*t*(t-1), [0,0,Tu]);"
   ]
  },
  {
   "cell_type":"markdown",
   "metadata":{},
   "source":[
    "Finally, we compute the residue of the Brauer class $(f_1,g_1)+(f_2,g_2)$ with $f_1=X-p(T)$, $f_2=X-Q(T)$, $g_1=6T(T+1)$, and $g_2=6T(T-1)$ via the residue formula $\\text{res}(f,g)=[(-1)^{v(f)v(g)}f_0^{v(g)}g_0^{v(f)}]$ where $f_0,g_0$ are the first nonzero coefficient in the power series expansion of $f_0,g_0$, and we take the equivalence class in $k(U)/k(U)^2$."
   ]
  },
  {
   "cell_type":"code",
   "metadata":{},
   "outputs":[],
   "source":[
    "res:=ComputeResidue(f1, g1)*ComputeResidue(f2, g2);\n",
    "res;"
   ]
  },
  {
   "cell_type":"code",
   "metadata":{},
   "outputs":[],
   "source":[
    "Factorization(Numerator(res));\n",
    "Factorization(Denominator(res));\n",
    "Factorization(Integers() ! Coefficients(Numerator(res))[1]);"
   ]
  },
  {
   "cell_type":"code",
   "metadata":{},
   "outputs":[],
   "source":[
    "Factorization(Integers() ! 81);"
   ]
  },
  {
   "cell_type":"markdown",
   "metadata":{},
   "source":[
    "Once again, the residue is trivial."
   ]
  }
 ],
 "metadata":{
  "git":{
   "suppress_outputs":true
  },
  "kernelspec":{
   "display_name":"Magma",
   "language":"magma",
   "name":"magma"
  },
  "language_info":{
   "codemirror_mode":"magma",
   "file_extension":".m",
   "mimetype":"text/x-magma",
   "name":"magma",
   "version":"2.24-6"
  }
 },
 "nbformat":4,
 "nbformat_minor":2
}