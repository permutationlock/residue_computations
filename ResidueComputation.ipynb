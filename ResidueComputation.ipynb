{
 "cells":[
  {
   "cell_type":"markdown",
   "metadata":{},
   "source":[
    "### Finding power series expansions along exceptional components\n",
    "------------------------------------------------------------------------------------------\n",
    "First we define the surface, for now only in affine form. This is the surface Wittenberg works with in his article"
   ]
  },
  {
   "cell_type":"code",
   "metadata":{},
   "outputs":[],
   "source":[
    "A3<x,y,t>:=AffineSpace(Rationals(),3);\n",
    "p:=3*(t-1)^3*(t+3);\n",
    "q:=Evaluate(p,[x,y,-t]);\n",
    "F:=y^2-x*(x-p)*(x-q);\n",
    "E:=Surface(A3,F);"
   ]
  },
  {
   "cell_type":"markdown",
   "metadata":{},
   "source":[
    "We also must compute the equations for $E$ on the affine patch about infinity."
   ]
  },
  {
   "cell_type":"code",
   "metadata":{},
   "outputs":[],
   "source":[
    "p_inf:=3*(1-t)^3*(1+3*t);\n",
    "q_inf:=3*(-1-t)^3*(-1+3*t);\n",
    "F_inf:=y^2-x*(x-p_inf)*(x-q_inf);\n",
    "E_inf:=Surface(A3, F_inf);"
   ]
  },
  {
   "cell_type":"markdown",
   "metadata":{},
   "source":[
    "We check the discriminant of the elliptic curve. We need to do some hacky algebra to extract the polynomial we're interested in."
   ]
  },
  {
   "cell_type":"code",
   "metadata":{},
   "outputs":[],
   "source":[
    "Factorization(Discriminant(F-y^2,x));\n",
    "Factorization(Discriminant(F_inf-y^2,x));"
   ]
  },
  {
   "cell_type":"markdown",
   "metadata":{},
   "source":[
    "Singular subscheme, and some of the points in the support"
   ]
  },
  {
   "cell_type":"code",
   "metadata":{},
   "outputs":[],
   "source":[
    "Support(SingularSubscheme(E));\n",
    "Support(SingularSubscheme(E_inf));"
   ]
  },
  {
   "cell_type":"code",
   "metadata":{},
   "outputs":[],
   "source":[
    "Etilde:=DesingulariseSurfaceByBlowUp(E);\n",
    "Etilde_inf:=DesingulariseSurfaceByBlowUp(E_inf);"
   ]
  },
  {
   "cell_type":"markdown",
   "metadata":{},
   "source":[
    "### Residue formula"
   ]
  },
  {
   "cell_type":"markdown",
   "metadata":{},
   "source":[
    "Given a complete local DVR $R$ with uniformizer $\\pi$ and residue field $k$, we compute the residue of a quaternion algebra $(f,g)$ as the class of $(-1)^{v(f)v(g)}\\widetilde{f}^{v(g)}\\widetilde{g}^{v(f)}$ in $k^*/k^{*2}$ where for any $h\\in R$ we define $\\widetilde{h}=h\\pi^{-v(h)}$."
   ]
  },
  {
   "cell_type":"code",
   "metadata":{},
   "outputs":[],
   "source":[
    "function ComputeResidue(f, g)\n",
    "    vf:=Valuation(f);\n",
    "    vg:=Valuation(g);\n",
    "    \n",
    "    if Maximum([vg, vf]) gt 4 then\n",
    "        printf \"Valuation %o is too high\", Maximum([vg,vf]);\n",
    "    end if;\n",
    "    \n",
    "    f_0:=Coefficients(f)[1];\n",
    "    g_0:=Coefficients(g)[1];\n",
    "    \n",
    "    return f_0^(vg)*g_0^(vf)*(-1)^(vf*vg);\n",
    "end function;\n",
    "\n",
    "function IsSquareQU(f)\n",
    "    R := PolynomialRing(Integers());\n",
    "    return IsSquare(R ! Numerator(f)) and IsSquare(R ! Denominator(f));\n",
    "end function;\n",
    "\n",
    "function ComputeAllInterestingResidues(X, T, IsInf)\n",
    "    PT := 3*(T-1)^3*(T+3);\n",
    "    QT := 3*(-T-1)^3*(-T+3);\n",
    "    if IsInf then \n",
    "        PT := 3*(1/T-1)^3*(1/T+3);\n",
    "        QT := 3*(-1/T-1)^3*(-1/T+3);\n",
    "    end if;\n",
    "    Glist := [X-PT, X-QT];\n",
    "    Flist := [-1,2,3,T, T+1, T-1, T+3, T-3];\n",
    "    if IsInf then\n",
    "        Flist := [-1,2,3,1/T, 1/T+1, 1/T-1, 1/T+3, 1/T-3];\n",
    "    end if;\n",
    "    return [ [ ComputeResidue(f,g) : f in Flist ] : g in Glist];\n",
    "end function;"
   ]
  },
  {
   "cell_type":"markdown",
   "metadata":{},
   "source":[
    "### Compute Parametrization"
   ]
  },
  {
   "cell_type":"code",
   "metadata":{},
   "outputs":[],
   "source":[
    "function GetRationalPoint(L)\n",
    "    Lbar:=ProjectiveClosure(L);\n",
    "    C,pi:=Conic(Lbar);\n",
    "    P:=Inverse(pi)(RationalPoint(C));\n",
    "    return P;\n",
    "end function;"
   ]
  },
  {
   "cell_type":"code",
   "metadata":{},
   "outputs":[],
   "source":[
    "function ComputeParametrization(L, P)\n",
    "    kU<U>:=FunctionField(Rationals());\n",
    "    Lc:=ProjectiveClosure(L);\n",
    "    parm:=Eltseq(Lc(kU)![Evaluate(g,[U,1]): g in DefiningPolynomials(Parametrization(Lc,Lc!P))]);\n",
    "    Xu:=parm[1]/parm[3];\n",
    "    Yu:=parm[2]/parm[3];\n",
    "    assert forall{f: f in DefiningPolynomials(L) |Evaluate(f,[Xu,Yu]) eq 0};\n",
    "    return Xu, Yu;\n",
    "end function;"
   ]
  },
  {
   "cell_type":"markdown",
   "metadata":{},
   "source":[
    "## Computing list of residues for all bad fibers"
   ]
  },
  {
   "cell_type":"markdown",
   "metadata":{},
   "source":[
    "### Computing residue at ((-9, 0), 0) "
   ]
  },
  {
   "cell_type":"markdown",
   "metadata":{},
   "source":[
    "#### Component 1"
   ]
  },
  {
   "cell_type":"markdown",
   "metadata":{},
   "source":[
    "Here we are computing the residue along the original singular fiber $\\mathcal{E}_0$."
   ]
  },
  {
   "cell_type":"code",
   "metadata":{},
   "outputs":[],
   "source":[
    "A2<x2,y2>:=AffinePlane(Rationals());\n",
    "L:=Curve(A2, Evaluate(DefiningPolynomial(E), [x2,y2,0]));\n",
    "L;"
   ]
  },
  {
   "cell_type":"markdown",
   "metadata":{},
   "source":[
    "We define a rational function field that we use to parametrize the exceptional component L with"
   ]
  },
  {
   "cell_type":"code",
   "metadata":{},
   "outputs":[],
   "source":[
    "kU<U>:=FunctionField(Rationals());"
   ]
  },
  {
   "cell_type":"markdown",
   "metadata":{},
   "source":[
    "We write down a parametrization of L and check that it satisfies that parametrization. In particular, we see that \"V\" on Y vanishes on L (we'll see we can use it as a uniformizer at the generic point of L)"
   ]
  },
  {
   "cell_type":"code",
   "metadata":{},
   "outputs":[],
   "source":[
    "Xu,Yu:=ComputeParametrization(L, [0, 1, 0]);"
   ]
  },
  {
   "cell_type":"code",
   "metadata":{},
   "outputs":[],
   "source":[
    "kUV<Vu>:=PowerSeriesRing(kU);\n",
    "Tu:=Vu;"
   ]
  },
  {
   "cell_type":"code",
   "metadata":{},
   "outputs":[],
   "source":[
    "Residues := ComputeAllInterestingResidues(Xu, Tu, false);\n",
    "ResidueList:=[* *];\n",
    "Append(~ResidueList,Residues);\n",
    "Residues;"
   ]
  },
  {
   "cell_type":"markdown",
   "metadata":{},
   "source":[
    "#### Component 2"
   ]
  },
  {
   "cell_type":"markdown",
   "metadata":{},
   "source":[
    "Here we unpack the equations for the first exceptional component L on a patch Y of the desingularization $\\tilde{\\mathcal{E}}$ of $\\mathcal{E}$ over $((-9, 0),0)$, together with the blowdown morphism $\\pi: Y \\to \\mathcal{E}$."
   ]
  },
  {
   "cell_type":"code",
   "metadata":{},
   "outputs":[],
   "source":[
    "L,Y,pi:=BlowUpDivisor(E,Etilde[1],1);\n",
    "A3<T,S,W>:=Ambient(Y);\n",
    "L;"
   ]
  },
  {
   "cell_type":"markdown",
   "metadata":{},
   "source":[
    "We define a rational function field that we use to parametrize the exceptional component L with"
   ]
  },
  {
   "cell_type":"code",
   "metadata":{},
   "outputs":[],
   "source":[
    "kU<U>:=FunctionField(Rationals());"
   ]
  },
  {
   "cell_type":"markdown",
   "metadata":{},
   "source":[
    "We write down a parametrization of L and check that it satisfies that parametrization. In particular, we see that \"V\" on Y vanishes on L (we'll see we can use it as a uniformizer at the generic point of L)"
   ]
  },
  {
   "cell_type":"code",
   "metadata":{},
   "outputs":[],
   "source":[
    "A2<S0, W0>:=AffinePlane(Rationals());\n",
    "L0:=Curve(A2, Evaluate(DefiningPolynomials(L)[1], [0,S0,W0]));\n",
    "Su, Wu:=ComputeParametrization(L0, GetRationalPoint(L0));\n",
    "assert forall{f: f in DefiningPolynomials(L) |Evaluate(f,[0,Su,Wu]) eq 0};"
   ]
  },
  {
   "cell_type":"code",
   "metadata":{},
   "outputs":[],
   "source":[
    "kUV<Vu>:=PowerSeriesRing(kU);\n",
    "Tu:=Vu;"
   ]
  },
  {
   "cell_type":"code",
   "metadata":{},
   "outputs":[],
   "source":[
    "R<Wpol>:=PolynomialRing(kUV);"
   ]
  },
  {
   "cell_type":"markdown",
   "metadata":{},
   "source":[
    "Below we compute a higher order approximation of $W$ in the power series ring $k(U)[[V]]$."
   ]
  },
  {
   "cell_type":"code",
   "metadata":{},
   "outputs":[],
   "source":[
    "F:=Evaluate(DefiningPolynomial(Y), [Tu, Su, Wpol]);\n",
    "Fprime:=Derivative(F);\n",
    "for i in [1..3] do\n",
    "    Temp:=Wu-Evaluate(F, Wu)/Evaluate(Fprime,Wu);\n",
    "    Wu:=Temp;\n",
    "end for;"
   ]
  },
  {
   "cell_type":"markdown",
   "metadata":{},
   "source":[
    "We verify that the power series in $k(U)[[V]]$ that we have computed, indeed satisfy the defining polynomial for $Y$."
   ]
  },
  {
   "cell_type":"code",
   "metadata":{
    "scrolled":true
   },
   "outputs":[],
   "source":[
    "Evaluate(DefiningPolynomial(Y),[Tu+O(Vu^4),Su+O(Vu^4),Wu+O(Vu^4)]);"
   ]
  },
  {
   "cell_type":"markdown",
   "metadata":{},
   "source":[
    "In order to relate all this back to the original coordinates on X, we use the description of pi, that expresses $X,Y,T$ in terms of $T,S,W$, and since we have the latter as power series, we can substitute them to get the required results."
   ]
  },
  {
   "cell_type":"code",
   "metadata":{},
   "outputs":[],
   "source":[
    "Xu:=Evaluate(DefiningPolynomials(pi)[1], [Tu, Su, Wu]);\n",
    "Tu:=Evaluate(DefiningPolynomials(pi)[3], [Tu, Su, Wu]);"
   ]
  },
  {
   "cell_type":"code",
   "metadata":{},
   "outputs":[],
   "source":[
    "Residues := ComputeAllInterestingResidues(Xu, Tu, false);\n",
    "Append(~ResidueList,Residues);"
   ]
  },
  {
   "cell_type":"markdown",
   "metadata":{},
   "source":[
    "### Computing residue at ((0, 0), -3) "
   ]
  },
  {
   "cell_type":"markdown",
   "metadata":{},
   "source":[
    "#### Component 1"
   ]
  },
  {
   "cell_type":"markdown",
   "metadata":{},
   "source":[
    "Here we are computing the residue along the original singular fiber $\\mathcal{E}_{-3}$."
   ]
  },
  {
   "cell_type":"code",
   "metadata":{},
   "outputs":[],
   "source":[
    "A2<x2,y2>:=AffinePlane(Rationals());\n",
    "L:=Curve(A2, Evaluate(DefiningPolynomial(E), [x2,y2,-3]));\n",
    "L;"
   ]
  },
  {
   "cell_type":"markdown",
   "metadata":{},
   "source":[
    "We define a rational function field that we use to parametrize the exceptional component L with"
   ]
  },
  {
   "cell_type":"code",
   "metadata":{},
   "outputs":[],
   "source":[
    "kU<U>:=FunctionField(Rationals());"
   ]
  },
  {
   "cell_type":"markdown",
   "metadata":{},
   "source":[
    "We write down a parametrization of L and check that it satisfies that parametrization."
   ]
  },
  {
   "cell_type":"code",
   "metadata":{},
   "outputs":[],
   "source":[
    "Xu,Yu:=ComputeParametrization(L, [0,1,0]);\n",
    "assert forall{f: f in DefiningPolynomials(L) |Evaluate(f,[Xu,Yu]) eq 0};"
   ]
  },
  {
   "cell_type":"code",
   "metadata":{},
   "outputs":[],
   "source":[
    "kUV<Vu>:=PowerSeriesRing(kU);\n",
    "Tu:=Vu-3;"
   ]
  },
  {
   "cell_type":"code",
   "metadata":{},
   "outputs":[],
   "source":[
    "Residues := ComputeAllInterestingResidues(Xu, Tu, false);\n",
    "Append(~ResidueList,Residues);"
   ]
  },
  {
   "cell_type":"markdown",
   "metadata":{},
   "source":[
    "#### Component 2"
   ]
  },
  {
   "cell_type":"markdown",
   "metadata":{},
   "source":[
    "Here we unpack the equations for the first exceptional component L on a patch Y of the desingularization $\\tilde{\\mathcal{E}}$ of $\\mathcal{E}$ over $((0,0), -3)$, together with the blowdown morphism $\\pi: Y \\to \\mathcal{E}$."
   ]
  },
  {
   "cell_type":"code",
   "metadata":{},
   "outputs":[],
   "source":[
    "L,Y,pi:=BlowUpDivisor(E,Etilde[2],1);\n",
    "A3<X,S,W>:=Ambient(Y);\n",
    "L;"
   ]
  },
  {
   "cell_type":"markdown",
   "metadata":{},
   "source":[
    "Below we find a parametrization of $L$."
   ]
  },
  {
   "cell_type":"code",
   "metadata":{},
   "outputs":[],
   "source":[
    "A2<S0, W0>:=AffinePlane(Rationals());\n",
    "L0:=Curve(A2, Evaluate(DefiningPolynomials(L)[1], [0,S0,W0]));\n",
    "Su, Wu:=ComputeParametrization(L0, GetRationalPoint(L0));\n",
    "assert forall{f: f in DefiningPolynomials(L) |Evaluate(f,[0,Su,Wu]) eq 0};"
   ]
  },
  {
   "cell_type":"code",
   "metadata":{},
   "outputs":[],
   "source":[
    "kUV<Vu>:=PowerSeriesRing(kU);\n",
    "Xu:=Vu;"
   ]
  },
  {
   "cell_type":"markdown",
   "metadata":{},
   "source":[
    "Below we compute a higher order approximation of $W$ in the power series ring $k(U)[[V]]$."
   ]
  },
  {
   "cell_type":"code",
   "metadata":{},
   "outputs":[],
   "source":[
    "R<Wpol>:=PolynomialRing(kUV);\n",
    "F:=Evaluate(DefiningPolynomial(Y), [Xu, Su, Wpol]);\n",
    "Fprime:=Derivative(F);\n",
    "for i in [1..4] do\n",
    "    Temp:=Wu-Evaluate(F, Wu)/Evaluate(Fprime,Wu);\n",
    "    Wu:=Temp;\n",
    "end for;"
   ]
  },
  {
   "cell_type":"markdown",
   "metadata":{},
   "source":[
    "We verify that the power series in $k(U)[[V]]$ that we have computed, indeed satisfy the defining polynomial for $Y$."
   ]
  },
  {
   "cell_type":"code",
   "metadata":{
    "scrolled":true
   },
   "outputs":[],
   "source":[
    "Evaluate(DefiningPolynomial(Y),[Xu+O(Vu^4),Su+O(Vu^4),Wu+O(Vu^4)]);"
   ]
  },
  {
   "cell_type":"code",
   "metadata":{},
   "outputs":[],
   "source":[
    "Xu:=Evaluate(DefiningPolynomials(pi)[1], [Xu, Su, Wu]);\n",
    "Tu:=Evaluate(DefiningPolynomials(pi)[3], [Xu, Su, Wu]);"
   ]
  },
  {
   "cell_type":"code",
   "metadata":{},
   "outputs":[],
   "source":[
    "Residues := ComputeAllInterestingResidues(Xu, Tu, false);\n",
    "Append(~ResidueList,Residues);"
   ]
  },
  {
   "cell_type":"markdown",
   "metadata":{},
   "source":[
    "### Computing residues at ((0, 0), -1) "
   ]
  },
  {
   "cell_type":"markdown",
   "metadata":{},
   "source":[
    "#### Component 1"
   ]
  },
  {
   "cell_type":"markdown",
   "metadata":{},
   "source":[
    "Here we compute the residue at the original component of $\\mathcal{E}_{-1}$"
   ]
  },
  {
   "cell_type":"code",
   "metadata":{},
   "outputs":[],
   "source":[
    "A2<x2,y2>:=AffinePlane(Rationals());\n",
    "L:=Curve(A2, Evaluate(DefiningPolynomial(E), [x2,y2,-1]));\n",
    "L;"
   ]
  },
  {
   "cell_type":"markdown",
   "metadata":{},
   "source":[
    "We define a rational function field that we use to parametrize the exceptional component L with"
   ]
  },
  {
   "cell_type":"code",
   "metadata":{},
   "outputs":[],
   "source":[
    "kU<U>:=FunctionField(Rationals());"
   ]
  },
  {
   "cell_type":"markdown",
   "metadata":{},
   "source":[
    "We write down a parametrization of L and check that it satisfies that parametrization. In particular, we see that \"V\" on Y vanishes on L (we'll see we can use it as a uniformizer at the generic point of L)"
   ]
  },
  {
   "cell_type":"code",
   "metadata":{},
   "outputs":[],
   "source":[
    "Xu,Yu:=ComputeParametrization(L, [0,1,0]);\n",
    "assert forall{f: f in DefiningPolynomials(L) |Evaluate(f,[Xu,Yu]) eq 0};"
   ]
  },
  {
   "cell_type":"code",
   "metadata":{},
   "outputs":[],
   "source":[
    "kUV<Vu>:=PowerSeriesRing(kU);\n",
    "Tu:=Vu-1;"
   ]
  },
  {
   "cell_type":"code",
   "metadata":{
    "scrolled":true
   },
   "outputs":[],
   "source":[
    "Residues := ComputeAllInterestingResidues(Xu, Tu, false);\n",
    "Append(~ResidueList,Residues);"
   ]
  },
  {
   "cell_type":"markdown",
   "metadata":{},
   "source":[
    "#### Component 2"
   ]
  },
  {
   "cell_type":"markdown",
   "metadata":{},
   "source":[
    "Here we unpack the equations for the first exceptional component L on a patch Y of the desingularization $\\tilde{\\mathcal{E}}$ of $\\mathcal{E}$ over $((0,0), -1)$, together with the blowdown morphism $\\pi: Y \\to \\mathcal{E}$."
   ]
  },
  {
   "cell_type":"code",
   "metadata":{},
   "outputs":[],
   "source":[
    "L,Y,pi:=BlowUpDivisor(E,Etilde[3],1);"
   ]
  },
  {
   "cell_type":"markdown",
   "metadata":{},
   "source":[
    "Looking at the equation of $L$ we note that it has no rational points and is geometrically reducible. This means that the residue field $k(L)$ will be of the form $k(u)$ with $k$ some finite extension of $\\mathbb{Q}$; in our case $k=\\mathbb{Q}(\\sqrt{48})=\\mathbb{Q}(\\sqrt{3})$."
   ]
  },
  {
   "cell_type":"code",
   "metadata":{},
   "outputs":[],
   "source":[
    "A3<X,S,W>:=Ambient(Y);\n",
    "L;"
   ]
  },
  {
   "cell_type":"markdown",
   "metadata":{},
   "source":[
    "Note that $L:S^2-48=0, X=0$ has no rational points and is geometrically reducible. In particular, one can work out that the residue field is $\\kappa(L)=k(W)$ where $k=\\mathbb{Q}(a)$ and $a$ is a square root of $3$. Below we define the extension $k/\\mathbb{Q}$ as well as a rational function field that we will use to parametrize the exceptional component L with."
   ]
  },
  {
   "cell_type":"code",
   "metadata":{},
   "outputs":[],
   "source":[
    "k<a>:=QuadraticField(48);\n",
    "kU<U>:=FunctionField(k);\n",
    "Wu:=U;"
   ]
  },
  {
   "cell_type":"code",
   "metadata":{},
   "outputs":[],
   "source":[
    "kUV<Vu>:=PowerSeriesRing(kU);\n",
    "Xu:=Vu;"
   ]
  },
  {
   "cell_type":"code",
   "metadata":{},
   "outputs":[],
   "source":[
    "Q<Spol>:=PolynomialRing(kUV);"
   ]
  },
  {
   "cell_type":"markdown",
   "metadata":{},
   "source":[
    "By definition we have an expression for $X$ and $W$ in $k(U)(Vu)$ as $W=U$ and $X=Vu$. It remains to find an expansion for $S$. From our observations above we note that when taking residues $\\overline{S}=4a=4\\sqrt{3}\\in k(W)$, as we mod out by $S^2-48$, and so we have a first order approximation. Applying Newton iteration gives us enough terms to compute residues."
   ]
  },
  {
   "cell_type":"code",
   "metadata":{},
   "outputs":[],
   "source":[
    "F:=Evaluate(DefiningPolynomial(Y), [Xu, Spol, Wu]);\n",
    "Fprime:=Derivative(F);\n",
    "Su:=4*a;\n",
    "for i in [1..4] do\n",
    "    Temp:=Su-Evaluate(F, Su)/Evaluate(Fprime,Su);\n",
    "    Su:=Temp;\n",
    "end for;"
   ]
  },
  {
   "cell_type":"markdown",
   "metadata":{},
   "source":[
    "We verify that the power series $Xu,Su,Wu$ in $k(U)[[Vu]]$ that we have computed, indeed satisfy the defining polynomial for $Y$."
   ]
  },
  {
   "cell_type":"code",
   "metadata":{
    "scrolled":true
   },
   "outputs":[],
   "source":[
    "Evaluate(DefiningPolynomial(Y),[Xu+O(Vu^4),Su+O(Vu^4),Wu+O(Vu^4)]);"
   ]
  },
  {
   "cell_type":"markdown",
   "metadata":{},
   "source":[
    "In order to relate all this back to the original coordinates on X, we use the description of pi, that expresses $X,Y,T$ in terms of $X,S,W$, and since we have the latter as power series, we can substitute them to get the required results."
   ]
  },
  {
   "cell_type":"code",
   "metadata":{
    "lines_to_next_cell":0
   },
   "outputs":[],
   "source":[
    "Xu:=Evaluate(DefiningPolynomials(pi)[1], [Xu, Su, Wu]);\n",
    "Tu:=Evaluate(DefiningPolynomials(pi)[3], [Xu, Su, Wu]);"
   ]
  },
  {
   "cell_type":"code",
   "metadata":{},
   "outputs":[],
   "source":[
    "Residues := ComputeAllInterestingResidues(Xu, Tu, false);\n",
    "Append(~ResidueList,Residues);"
   ]
  },
  {
   "cell_type":"markdown",
   "metadata":{},
   "source":[
    "#### Component 3"
   ]
  },
  {
   "cell_type":"markdown",
   "metadata":{},
   "source":[
    "Here we unpack the equations for the second exceptional component L on a patch Y of the desingularization $\\tilde{\\mathcal{E}}$ of $\\mathcal{E}$ over $((0,0), -1)$, together with the blowdown morphism $\\pi: Y \\to \\mathcal{E}$."
   ]
  },
  {
   "cell_type":"code",
   "metadata":{},
   "outputs":[],
   "source":[
    "L,Y,pi:=BlowUpDivisor(E,Etilde[3],2);"
   ]
  },
  {
   "cell_type":"markdown",
   "metadata":{},
   "source":[
    "Looking at the equation of $L$ we note that it has no rational points and is geometrically reducible. This means that the residue field $k(L)$ will be of the form $k(u)$ with $k$ some finite extension of $\\mathbb{Q}$; in our case $k=\\mathbb{Q}(\\sqrt{48})=\\mathbb{Q}(\\sqrt{3})$."
   ]
  },
  {
   "cell_type":"code",
   "metadata":{},
   "outputs":[],
   "source":[
    "A3<R,S,W>:=Ambient(Y);\n",
    "L;"
   ]
  },
  {
   "cell_type":"markdown",
   "metadata":{},
   "source":[
    "Note that $L:S^2-48=0, R=0$ has no rational points and is geometrically reducible. In particular, one can work out that the residue field is $\\kappa(L)=k(W)$ where $k=\\mathbb{Q}(a)$ and $a$ is a square root of $3$. Below we define the extension $k/\\mathbb{Q}$ as well as a rational function field that we will use to parametrize the exceptional component L with."
   ]
  },
  {
   "cell_type":"code",
   "metadata":{},
   "outputs":[],
   "source":[
    "k<a>:=QuadraticField(48);\n",
    "kU<U>:=FunctionField(k);\n",
    "Su:=U;"
   ]
  },
  {
   "cell_type":"code",
   "metadata":{},
   "outputs":[],
   "source":[
    "kUV<Vu>:=PowerSeriesRing(kU);\n",
    "Ru:=Vu;"
   ]
  },
  {
   "cell_type":"code",
   "metadata":{},
   "outputs":[],
   "source":[
    "Q<Wpol>:=PolynomialRing(kUV);"
   ]
  },
  {
   "cell_type":"markdown",
   "metadata":{},
   "source":[
    "By definition we have an expression for $S$ and $W$ in $k(U)(Vu)$ as $S=U$ and $R=Vu$. It remains to find an expansion for $W$. From our observations above we note that when taking residues $\\overline{W}=4a=4\\sqrt{3}\\in k(W)$, as we mod out by $W^2-48$, and so we have a first order approximation. Applying Newton iteration gives us enough terms to compute residues."
   ]
  },
  {
   "cell_type":"code",
   "metadata":{},
   "outputs":[],
   "source":[
    "F:=Evaluate(DefiningPolynomial(Y), [Ru, Su, Wpol]);\n",
    "Fprime:=Derivative(F);\n",
    "Wu:=4*a;\n",
    "for i in [1..4] do\n",
    "    Temp:=Wu-Evaluate(F, Wu)/Evaluate(Fprime,Wu);\n",
    "    Wu:=Temp;\n",
    "end for;"
   ]
  },
  {
   "cell_type":"markdown",
   "metadata":{},
   "source":[
    "We verify that the power series $Ru,Su,Wu$ in $k(U)[[Vu]]$ that we have computed, indeed satisfy the defining polynomial for $Y$."
   ]
  },
  {
   "cell_type":"code",
   "metadata":{
    "scrolled":true
   },
   "outputs":[],
   "source":[
    "Evaluate(DefiningPolynomial(Y),[Ru+O(Vu^4),Su+O(Vu^4),Wu+O(Vu^4)]);"
   ]
  },
  {
   "cell_type":"markdown",
   "metadata":{},
   "source":[
    "In order to relate all this back to the original coordinates on $\\mathcal{E}$, we use the description of pi, that expresses $X,Y,T$ in terms of $R,S,W$, and since we have the latter as power series, we can substitute them to get the required results."
   ]
  },
  {
   "cell_type":"code",
   "metadata":{
    "lines_to_next_cell":0
   },
   "outputs":[],
   "source":[
    "Xu:=Evaluate(DefiningPolynomials(pi)[1], [Ru, Su, Wu]);\n",
    "Tu:=Evaluate(DefiningPolynomials(pi)[3], [Ru, Su, Wu]);"
   ]
  },
  {
   "cell_type":"code",
   "metadata":{},
   "outputs":[],
   "source":[
    "Residues := ComputeAllInterestingResidues(Xu, Tu, false);\n",
    "Append(~ResidueList,Residues);"
   ]
  },
  {
   "cell_type":"markdown",
   "metadata":{},
   "source":[
    "#### Component 4"
   ]
  },
  {
   "cell_type":"markdown",
   "metadata":{},
   "source":[
    "Here we unpack the equations for the third exceptional component L on a patch Y of the desingularization $\\tilde{\\mathcal{E}}$ of $\\mathcal{E}$ over $((0,0), -1)$, together with the blowdown morphism $\\pi: Y \\to \\mathcal{E}$."
   ]
  },
  {
   "cell_type":"code",
   "metadata":{},
   "outputs":[],
   "source":[
    "L,Y,pi:=BlowUpDivisor(E,Etilde[3],3);"
   ]
  },
  {
   "cell_type":"code",
   "metadata":{},
   "outputs":[],
   "source":[
    "A3<T,S,W>:=Ambient(Y);\n",
    "L;"
   ]
  },
  {
   "cell_type":"markdown",
   "metadata":{},
   "source":[
    "We write down a parametrization of our conic $L$. For the parametrization below we took the projective closure and projected away from the rational point $[0,0,1]$."
   ]
  },
  {
   "cell_type":"code",
   "metadata":{},
   "outputs":[],
   "source":[
    "kU<U>:=FunctionField(Rationals());\n",
    "A2<S0, W0>:=AffinePlane(Rationals());\n",
    "L0:=Curve(A2, Evaluate(DefiningPolynomials(L)[1], [-1,S0,W0]));\n",
    "Su, Wu:=ComputeParametrization(L0, GetRationalPoint(L0));\n",
    "assert forall{f: f in DefiningPolynomials(L) |Evaluate(f,[-1,Su,Wu]) eq 0};"
   ]
  },
  {
   "cell_type":"code",
   "metadata":{},
   "outputs":[],
   "source":[
    "kUV<Vu>:=PowerSeriesRing(kU);\n",
    "Tu:=Vu-1;\n",
    "R<Wpol>:=PolynomialRing(kUV);"
   ]
  },
  {
   "cell_type":"markdown",
   "metadata":{},
   "source":[
    "Now we compute an expansion for $W$ in $\\mathbb{Q}(U)[[T]]$."
   ]
  },
  {
   "cell_type":"code",
   "metadata":{},
   "outputs":[],
   "source":[
    "F:=Evaluate(DefiningPolynomial(Y), [Tu, Su, Wpol]);\n",
    "Fprime:=Derivative(F);\n",
    "for i in [1..4] do\n",
    "    Temp:=Wu-Evaluate(F, Wu)/Evaluate(Fprime,Wu);\n",
    "    Wu:=Temp;\n",
    "end for;"
   ]
  },
  {
   "cell_type":"markdown",
   "metadata":{},
   "source":[
    "We verify that the power series $Tu,Vu,Wu$ in $k(U)[[Tu]]$ that we have computed, indeed satisfy the defining polynomial for $Y$."
   ]
  },
  {
   "cell_type":"code",
   "metadata":{
    "scrolled":true
   },
   "outputs":[],
   "source":[
    "Evaluate(DefiningPolynomial(Y),[Tu+O(Vu^4),Su+O(Vu^4),Wu+O(Vu^4)]);"
   ]
  },
  {
   "cell_type":"markdown",
   "metadata":{},
   "source":[
    "In order to relate all this back to the original coordinates on X, we use the description of pi, that expresses $X,Y,T$ in terms of $X,V,W$, and since we have the latter as power series, we can substitute them to get the required results."
   ]
  },
  {
   "cell_type":"code",
   "metadata":{},
   "outputs":[],
   "source":[
    "Xu:=Evaluate(DefiningPolynomials(pi)[1], [Tu, Su, Wu]);\n",
    "Tu:=Evaluate(DefiningPolynomials(pi)[3], [Tu, Su, Wu]);"
   ]
  },
  {
   "cell_type":"code",
   "metadata":{},
   "outputs":[],
   "source":[
    "Residues := ComputeAllInterestingResidues(Xu, Tu, false);\n",
    "Append(~ResidueList,Residues);"
   ]
  },
  {
   "cell_type":"markdown",
   "metadata":{},
   "source":[
    "### Computing residues at ((0, 0), 1) "
   ]
  },
  {
   "cell_type":"markdown",
   "metadata":{},
   "source":[
    "#### Component 1"
   ]
  },
  {
   "cell_type":"markdown",
   "metadata":{},
   "source":[
    "Here we compute the residues over the original component $\\mathcal{E}_1$."
   ]
  },
  {
   "cell_type":"code",
   "metadata":{},
   "outputs":[],
   "source":[
    "A2<x2,y2>:=AffinePlane(Rationals());\n",
    "L:=Curve(A2, Evaluate(DefiningPolynomial(E), [x2,y2,1]));"
   ]
  },
  {
   "cell_type":"markdown",
   "metadata":{},
   "source":[
    "We define a rational function field that we use to parametrize the exceptional component L with"
   ]
  },
  {
   "cell_type":"code",
   "metadata":{},
   "outputs":[],
   "source":[
    "kU<U>:=FunctionField(Rationals());\n",
    "Xu,Yu:=ComputeParametrization(L, [0,1,0]);\n",
    "assert forall{f: f in DefiningPolynomials(L) |Evaluate(f,[Xu,Yu]) eq 0};"
   ]
  },
  {
   "cell_type":"markdown",
   "metadata":{},
   "source":[
    "We write down a parametrization of L and check that it satisfies that parametrization. In particular, we see that \"V\" on Y vanishes on L (we'll see we can use it as a uniformizer at the generic point of L)"
   ]
  },
  {
   "cell_type":"code",
   "metadata":{},
   "outputs":[],
   "source":[
    "kUV<Vu>:=PowerSeriesRing(kU);\n",
    "Tu:=Vu+1;"
   ]
  },
  {
   "cell_type":"code",
   "metadata":{},
   "outputs":[],
   "source":[
    "Residues := ComputeAllInterestingResidues(Xu, Tu, false);\n",
    "Append(~ResidueList,Residues);"
   ]
  },
  {
   "cell_type":"markdown",
   "metadata":{},
   "source":[
    "#### Component 2"
   ]
  },
  {
   "cell_type":"markdown",
   "metadata":{},
   "source":[
    "Here we unpack the equations for the first exceptional component L on a patch Y of the desingularization $\\tilde{\\mathcal{E}}$ of $\\mathcal{E}$ over $((0,0), 1)$, together with the blowdown morphism $\\pi: Y \\to \\mathcal{E}$."
   ]
  },
  {
   "cell_type":"code",
   "metadata":{},
   "outputs":[],
   "source":[
    "L,Y,pi:=BlowUpDivisor(E,Etilde[4],1);"
   ]
  },
  {
   "cell_type":"markdown",
   "metadata":{},
   "source":[
    "Looking at the equation of $L$ we note that it has no rational points and is geometrically reducible. This means that the residue field $k(L)$ will be of the form $k(u)$ with $k$ some finite extension of $\\mathbb{Q}$; in our case $k=\\mathbb{Q}(\\sqrt{48})=\\mathbb{Q}(\\sqrt{3})$."
   ]
  },
  {
   "cell_type":"code",
   "metadata":{},
   "outputs":[],
   "source":[
    "A3<X,S,W>:=Ambient(Y);\n",
    "L;"
   ]
  },
  {
   "cell_type":"markdown",
   "metadata":{},
   "source":[
    "Note that $L:V^2-48=0, X=0$ has no rational points and is geometrically reducible. In particular, one can work out that the residue field is $\\kappa(L)=k(W)$ where $k=\\mathbb{Q}(a)$ and $a$ is a square root of $3$. Below we define the extension $k/\\mathbb{Q}$ as well as a rational function field that we will use to parametrize the exceptional component L with."
   ]
  },
  {
   "cell_type":"code",
   "metadata":{},
   "outputs":[],
   "source":[
    "k<a>:=QuadraticField(48);\n",
    "kU<U>:=FunctionField(k);\n",
    "Wu:=U;"
   ]
  },
  {
   "cell_type":"code",
   "metadata":{},
   "outputs":[],
   "source":[
    "kUV<Vu>:=PowerSeriesRing(kU);\n",
    "Xu:=Vu;"
   ]
  },
  {
   "cell_type":"code",
   "metadata":{},
   "outputs":[],
   "source":[
    "Q<Spol>:=PolynomialRing(kUV);"
   ]
  },
  {
   "cell_type":"markdown",
   "metadata":{},
   "source":[
    "By definition we have an expression for $X$ and $W$ in $k(U)(Xu)$ as $W=U$ and $X=Xu$. It remains to find an expansion for $S$. From our observations above we note that when taking residues $\\overline{S}=4a=4\\sqrt{3}\\in k(W)$, as we mod out by $S^2-48$, and so we have a first order approximation. Applying Newton iteration gives us enough terms to compute residues."
   ]
  },
  {
   "cell_type":"code",
   "metadata":{},
   "outputs":[],
   "source":[
    "F:=Evaluate(DefiningPolynomial(Y), [Xu, Spol, Wu]);\n",
    "Fprime:=Derivative(F);\n",
    "Su:=4*a;\n",
    "for i in [1..4] do\n",
    "    Temp:=Su-Evaluate(F, Su)/Evaluate(Fprime,Su);\n",
    "    Su:=Temp;\n",
    "end for;"
   ]
  },
  {
   "cell_type":"markdown",
   "metadata":{},
   "source":[
    "We verify that the power series $Xu,Su,Wu$ in $k(U)[[Vu]]$ that we have computed, indeed satisfy the defining polynomial for $Y$."
   ]
  },
  {
   "cell_type":"code",
   "metadata":{
    "scrolled":true
   },
   "outputs":[],
   "source":[
    "Evaluate(DefiningPolynomial(Y),[Xu+O(Vu^4),Su+O(Vu^4),Wu+O(Vu^4)]);"
   ]
  },
  {
   "cell_type":"markdown",
   "metadata":{},
   "source":[
    "In order to relate all this back to the original coordinates on X, we use the description of pi, that expresses $X,Y,T$ in terms of $X,V,W$, and since we have the latter as power series, we can substitute them to get the required results."
   ]
  },
  {
   "cell_type":"code",
   "metadata":{},
   "outputs":[],
   "source":[
    "Xu:=Evaluate(DefiningPolynomials(pi)[1], [Xu, Su, Wu]);\n",
    "Tu:=Evaluate(DefiningPolynomials(pi)[3], [Xu, Su, Wu]);"
   ]
  },
  {
   "cell_type":"code",
   "metadata":{},
   "outputs":[],
   "source":[
    "Residues := ComputeAllInterestingResidues(Xu, Tu, false);\n",
    "Append(~ResidueList,Residues);"
   ]
  },
  {
   "cell_type":"markdown",
   "metadata":{},
   "source":[
    "#### Component 3"
   ]
  },
  {
   "cell_type":"markdown",
   "metadata":{},
   "source":[
    "Here we unpack the equations for the second exceptional component L on a patch Y of the desingularization $\\tilde{\\mathcal{E}}$ of $\\mathcal{E}$ over $((0,0), 1)$, together with the blowdown morphism $\\pi: Y \\to \\mathcal{E}$."
   ]
  },
  {
   "cell_type":"code",
   "metadata":{},
   "outputs":[],
   "source":[
    "L,Y,pi:=BlowUpDivisor(E,Etilde[4],2);"
   ]
  },
  {
   "cell_type":"markdown",
   "metadata":{},
   "source":[
    "Looking at the equation of $L$ we note that it has no rational points and is geometrically reducible. This means that the residue field $k(L)$ will be of the form $k(u)$ with $k$ some finite extension of $\\mathbb{Q}$; in our case $k=\\mathbb{Q}(\\sqrt{48})=\\mathbb{Q}(\\sqrt{3})$."
   ]
  },
  {
   "cell_type":"code",
   "metadata":{},
   "outputs":[],
   "source":[
    "A3<R,S,W>:=Ambient(Y);\n",
    "L;"
   ]
  },
  {
   "cell_type":"markdown",
   "metadata":{},
   "source":[
    "We define the extension $k/\\mathbb{Q}$ as well as a rational function field that we will use to parametrize the exceptional component L with."
   ]
  },
  {
   "cell_type":"code",
   "metadata":{},
   "outputs":[],
   "source":[
    "k<a>:=QuadraticField(48);\n",
    "kU<U>:=FunctionField(k);\n",
    "Su:=U;"
   ]
  },
  {
   "cell_type":"code",
   "metadata":{},
   "outputs":[],
   "source":[
    "kUV<Vu>:=PowerSeriesRing(kU);\n",
    "Ru:=Vu;"
   ]
  },
  {
   "cell_type":"code",
   "metadata":{},
   "outputs":[],
   "source":[
    "Q<Wpol>:=PolynomialRing(kUV);"
   ]
  },
  {
   "cell_type":"markdown",
   "metadata":{},
   "source":[
    "By definition we have an expression for $R$ and $S$ in $k(U)(Xu)$ as $S=U$ and $R=Vu$. It remains to find an expansion for $W$. We note that when taking residues we have $\\overline{W}=4a=4\\sqrt{3}$, as we mod out by $W^2-48$, and so we have a first order approximation. Applying Newton iteration gives us enough terms to compute residues."
   ]
  },
  {
   "cell_type":"code",
   "metadata":{},
   "outputs":[],
   "source":[
    "F:=Evaluate(DefiningPolynomial(Y), [Ru, Su, Wpol]);\n",
    "Fprime:=Derivative(F);\n",
    "Wu:=4*a;\n",
    "for i in [1..4] do\n",
    "    Temp:=Wu-Evaluate(F, Wu)/Evaluate(Fprime,Wu);\n",
    "    Wu:=Temp;\n",
    "end for;"
   ]
  },
  {
   "cell_type":"markdown",
   "metadata":{},
   "source":[
    "We verify that the power series $Ru,Su,Wu$ in $k(U)[[Vu]]$ that we have computed, indeed satisfy the defining polynomial for $Y$."
   ]
  },
  {
   "cell_type":"code",
   "metadata":{
    "scrolled":true
   },
   "outputs":[],
   "source":[
    "Evaluate(DefiningPolynomial(Y),[Ru+O(Vu^4),Su+O(Vu^4),Wu+O(Vu^4)]);"
   ]
  },
  {
   "cell_type":"markdown",
   "metadata":{},
   "source":[
    "In order to relate all this back to the original coordinates on X, we use the description of pi, that expresses $X,Y,T$ in terms of $R,S,W$, and since we have the latter as power series, we can substitute them to get the required results."
   ]
  },
  {
   "cell_type":"code",
   "metadata":{},
   "outputs":[],
   "source":[
    "Xu:=Evaluate(DefiningPolynomials(pi)[1], [Ru, Su, Wu]);\n",
    "Tu:=Evaluate(DefiningPolynomials(pi)[3], [Ru, Su, Wu]);"
   ]
  },
  {
   "cell_type":"code",
   "metadata":{},
   "outputs":[],
   "source":[
    "Residues := ComputeAllInterestingResidues(Xu, Tu, false);\n",
    "Append(~ResidueList,Residues);"
   ]
  },
  {
   "cell_type":"markdown",
   "metadata":{},
   "source":[
    "#### Component 4"
   ]
  },
  {
   "cell_type":"markdown",
   "metadata":{},
   "source":[
    "Here we unpack the equations for the third exceptional component L on a patch Y of the desingularization $\\tilde{\\mathcal{E}}$ of $\\mathcal{E}$ over $((0,0), 1)$, together with the blowdown morphism $\\pi: Y \\to \\mathcal{E}$."
   ]
  },
  {
   "cell_type":"code",
   "metadata":{},
   "outputs":[],
   "source":[
    "L,Y,pi:=BlowUpDivisor(E,Etilde[4],3);"
   ]
  },
  {
   "cell_type":"code",
   "metadata":{},
   "outputs":[],
   "source":[
    "A3<T,S,W>:=Ambient(Y);\n",
    "L;"
   ]
  },
  {
   "cell_type":"markdown",
   "metadata":{},
   "source":[
    "We write down a parametrization of our conic $L$."
   ]
  },
  {
   "cell_type":"code",
   "metadata":{},
   "outputs":[],
   "source":[
    "kU<U>:=FunctionField(Rationals());\n",
    "A2<S0, W0>:=AffinePlane(Rationals());\n",
    "L0:=Curve(A2, Evaluate(DefiningPolynomials(L)[1], [1,S0,W0]));\n",
    "Su, Wu:=ComputeParametrization(L0, GetRationalPoint(L0));\n",
    "assert forall{f: f in DefiningPolynomials(L) |Evaluate(f,[1,Su,Wu]) eq 0};"
   ]
  },
  {
   "cell_type":"code",
   "metadata":{},
   "outputs":[],
   "source":[
    "kUV<Vu>:=PowerSeriesRing(kU);\n",
    "Tu:=Vu+1;"
   ]
  },
  {
   "cell_type":"code",
   "metadata":{},
   "outputs":[],
   "source":[
    "Q<Wpol>:=PolynomialRing(kUV);"
   ]
  },
  {
   "cell_type":"markdown",
   "metadata":{},
   "source":[
    "Now we compute an expansion for $W$ in $\\mathbb{Q}(U)[[V]]$."
   ]
  },
  {
   "cell_type":"code",
   "metadata":{},
   "outputs":[],
   "source":[
    "F:=Evaluate(DefiningPolynomial(Y), [Tu, Su, Wpol]);\n",
    "Fprime:=Derivative(F);\n",
    "for i in [1..4] do\n",
    "    Temp:=Wu-Evaluate(F, Wu)/Evaluate(Fprime,Wu);\n",
    "    Wu:=Temp;\n",
    "end for;"
   ]
  },
  {
   "cell_type":"markdown",
   "metadata":{},
   "source":[
    "We verify that the power series $Tu,Su,Wu$ in $k(U)[[Vu]]$ that we have computed, indeed satisfy the defining polynomial for $Y$."
   ]
  },
  {
   "cell_type":"code",
   "metadata":{
    "scrolled":true
   },
   "outputs":[],
   "source":[
    "Evaluate(DefiningPolynomial(Y),[Tu+O(Vu^4),Su+O(Vu^4),Wu+O(Vu^4)]);"
   ]
  },
  {
   "cell_type":"markdown",
   "metadata":{},
   "source":[
    "In order to relate all this back to the original coordinates on X, we use the description of pi, that expresses $X,Y,T$ in terms of $X,V,W$, and since we have the latter as power series, we can substitute them to get the required results."
   ]
  },
  {
   "cell_type":"code",
   "metadata":{},
   "outputs":[],
   "source":[
    "Xu:=Evaluate(DefiningPolynomials(pi)[1], [Tu, Su, Wu]);\n",
    "Tu:=Evaluate(DefiningPolynomials(pi)[3], [Tu, Su, Wu]);"
   ]
  },
  {
   "cell_type":"code",
   "metadata":{},
   "outputs":[],
   "source":[
    "Residues := ComputeAllInterestingResidues(Xu, Tu, false);\n",
    "Append(~ResidueList,Residues);"
   ]
  },
  {
   "cell_type":"markdown",
   "metadata":{},
   "source":[
    "### Computing residue at ((0, 0), 3) "
   ]
  },
  {
   "cell_type":"markdown",
   "metadata":{},
   "source":[
    "#### Component 1"
   ]
  },
  {
   "cell_type":"markdown",
   "metadata":{},
   "source":[
    "Here we compute the residues over the original component $\\mathcal{E}_3$."
   ]
  },
  {
   "cell_type":"code",
   "metadata":{},
   "outputs":[],
   "source":[
    "A2<x2,y2>:=AffinePlane(Rationals());\n",
    "L:=Curve(A2, Evaluate(DefiningPolynomial(E), [x2,y2,3]));"
   ]
  },
  {
   "cell_type":"markdown",
   "metadata":{},
   "source":[
    "We define a rational function field that we use to parametrize the exceptional component L with"
   ]
  },
  {
   "cell_type":"code",
   "metadata":{},
   "outputs":[],
   "source":[
    "kU<U>:=FunctionField(Rationals());\n",
    "Xu,Yu:=ComputeParametrization(L, [0,1,0]);\n",
    "assert forall{f: f in DefiningPolynomials(L) |Evaluate(f,[Xu,Yu]) eq 0};"
   ]
  },
  {
   "cell_type":"markdown",
   "metadata":{},
   "source":[
    "We write down a parametrization of L and check that it satisfies that parametrization. In particular, we see that \"V\" on Y vanishes on L (we'll see we can use it as a uniformizer at the generic point of L)"
   ]
  },
  {
   "cell_type":"code",
   "metadata":{},
   "outputs":[],
   "source":[
    "kUV<Vu>:=PowerSeriesRing(kU);\n",
    "Tu:=Vu+3;"
   ]
  },
  {
   "cell_type":"code",
   "metadata":{},
   "outputs":[],
   "source":[
    "Residues:=ComputeAllInterestingResidues(Xu, Tu, false);\n",
    "Append(~ResidueList,Residues);"
   ]
  },
  {
   "cell_type":"markdown",
   "metadata":{},
   "source":[
    "#### Component 2"
   ]
  },
  {
   "cell_type":"markdown",
   "metadata":{},
   "source":[
    "Here we unpack the equations for the first exceptional component L on a patch Y of the desingularization $\\tilde{\\mathcal{E}}$ of $\\mathcal{E}$ over $((0,0), 3)$, together with the blowdown morphism $\\pi: Y \\to \\mathcal{E}$."
   ]
  },
  {
   "cell_type":"code",
   "metadata":{},
   "outputs":[],
   "source":[
    "L,Y,pi:=BlowUpDivisor(E,Etilde[5],1);\n",
    "A3<X,S,W>:=Ambient(Y);\n",
    "L;"
   ]
  },
  {
   "cell_type":"markdown",
   "metadata":{},
   "source":[
    "Below we find a parametrization of $L$."
   ]
  },
  {
   "cell_type":"code",
   "metadata":{},
   "outputs":[],
   "source":[
    "kU<U>:=FunctionField(Rationals());\n",
    "A2<S0, W0>:=AffinePlane(Rationals());\n",
    "L0:=Curve(A2, Evaluate(DefiningPolynomials(L)[1], [0,S0,W0]));\n",
    "Su, Wu:=ComputeParametrization(L0, GetRationalPoint(L0));\n",
    "assert forall{f: f in DefiningPolynomials(L) |Evaluate(f,[0,Su,Wu]) eq 0};"
   ]
  },
  {
   "cell_type":"code",
   "metadata":{},
   "outputs":[],
   "source":[
    "kUV<Vu>:=PowerSeriesRing(kU);\n",
    "Xu:=Vu;"
   ]
  },
  {
   "cell_type":"code",
   "metadata":{},
   "outputs":[],
   "source":[
    "Q<Wpol>:=PolynomialRing(kUV);"
   ]
  },
  {
   "cell_type":"markdown",
   "metadata":{},
   "source":[
    "Here we compute a higher order approximation for $W$ in the power series ring."
   ]
  },
  {
   "cell_type":"code",
   "metadata":{},
   "outputs":[],
   "source":[
    "F:=Evaluate(DefiningPolynomial(Y), [Xu, Su, Wpol]);\n",
    "Fprime:=Derivative(F);\n",
    "for i in [1..4] do\n",
    "    Temp:=Wu-Evaluate(F, Wu)/Evaluate(Fprime,Wu);\n",
    "    Wu:=Temp;\n",
    "end for;"
   ]
  },
  {
   "cell_type":"markdown",
   "metadata":{},
   "source":[
    "We verify that the power series in $k(U)[[V]]$ that we have computed, indeed satisfy the defining polynomial for $Y$."
   ]
  },
  {
   "cell_type":"code",
   "metadata":{
    "scrolled":true
   },
   "outputs":[],
   "source":[
    "Evaluate(DefiningPolynomial(Y),[Xu+O(Vu^4),Su+O(Vu^4),Wu+O(Vu^4)]);"
   ]
  },
  {
   "cell_type":"code",
   "metadata":{},
   "outputs":[],
   "source":[
    "Xu:=Evaluate(DefiningPolynomials(pi)[1], [Xu, Su, Wu]);\n",
    "Tu:=Evaluate(DefiningPolynomials(pi)[3], [Xu, Su, Wu]);"
   ]
  },
  {
   "cell_type":"code",
   "metadata":{},
   "outputs":[],
   "source":[
    "Residues := ComputeAllInterestingResidues(Xu, Tu, false);\n",
    "Append(~ResidueList,Residues);"
   ]
  },
  {
   "cell_type":"markdown",
   "metadata":{},
   "source":[
    "### Computing residues at ((3, 0), $\\infty$) "
   ]
  },
  {
   "cell_type":"markdown",
   "metadata":{},
   "source":[
    "#### Component 1"
   ]
  },
  {
   "cell_type":"markdown",
   "metadata":{},
   "source":[
    "Here we compute the residues over the original component $\\mathcal{E}_{\\infty}$."
   ]
  },
  {
   "cell_type":"code",
   "metadata":{},
   "outputs":[],
   "source":[
    "A2<x2,y2>:=AffinePlane(Rationals());\n",
    "L:=Curve(A2, Evaluate(DefiningPolynomial(E_inf), [x2,y2,0]));\n",
    "L;"
   ]
  },
  {
   "cell_type":"markdown",
   "metadata":{},
   "source":[
    "We define a rational function field that we use to parametrize the exceptional component L with"
   ]
  },
  {
   "cell_type":"code",
   "metadata":{},
   "outputs":[],
   "source":[
    "kU<U>:=FunctionField(Rationals());\n",
    "Xu,Yu:=ComputeParametrization(L, [0,1,0]);\n",
    "assert forall{f: f in DefiningPolynomials(L) |Evaluate(f,[Xu,Yu]) eq 0};"
   ]
  },
  {
   "cell_type":"markdown",
   "metadata":{},
   "source":[
    "We write down a parametrization of L and check that it satisfies that parametrization. In particular, we see that \"V\" on Y vanishes on L (we'll see we can use it as a uniformizer at the generic point of L)"
   ]
  },
  {
   "cell_type":"code",
   "metadata":{},
   "outputs":[],
   "source":[
    "kUV<Vu>:=PowerSeriesRing(kU);\n",
    "Su:=Vu;"
   ]
  },
  {
   "cell_type":"code",
   "metadata":{},
   "outputs":[],
   "source":[
    "Residues := ComputeAllInterestingResidues(Xu, Su, true);\n",
    "Append(~ResidueList,Residues);"
   ]
  },
  {
   "cell_type":"markdown",
   "metadata":{},
   "source":[
    "#### Component 2"
   ]
  },
  {
   "cell_type":"markdown",
   "metadata":{},
   "source":[
    "Here we unpack the equations for the first exceptional component L on a patch Y of the desingularization $\\tilde{\\mathcal{E}}$ of $\\mathcal{E}$ over $((0,0), \\infty)$, together with the blowdown morphism $\\pi: Y \\to \\mathcal{E}$."
   ]
  },
  {
   "cell_type":"code",
   "metadata":{},
   "outputs":[],
   "source":[
    "L,Y,pi:=BlowUpDivisor(E_inf,Etilde_inf[1],1);"
   ]
  },
  {
   "cell_type":"markdown",
   "metadata":{},
   "source":[
    "Looking at the equation of $L$ we note that it has no rational points and is geometrically reducible. This means that the residue field $k(L)$ will be of the form $k(u)$ with $k$ some finite extension of $\\mathbb{Q}$; in our case $k=\\mathbb{Q}(\\sqrt{3})$."
   ]
  },
  {
   "cell_type":"code",
   "metadata":{},
   "outputs":[],
   "source":[
    "A3<S,R,W>:=Ambient(Y);\n",
    "L;"
   ]
  },
  {
   "cell_type":"markdown",
   "metadata":{},
   "source":[
    "The variable $S$ corresponds to $1/t$ in our original coordinates."
   ]
  },
  {
   "cell_type":"markdown",
   "metadata":{},
   "source":[
    "Note that $L:R^2-3=0, S=0$ has no rational points and is geometrically reducible. In particular, one can work out that the residue field is $\\kappa(L)=k(W)$ where $k=\\mathbb{Q}(a)$ and $a$ is a square root of $3$. Below we define the extension $k/\\mathbb{Q}$ as well as a rational function field that we will use to parametrize the exceptional component L with."
   ]
  },
  {
   "cell_type":"code",
   "metadata":{},
   "outputs":[],
   "source":[
    "k<a>:=QuadraticField(3);\n",
    "kU<U>:=FunctionField(k);\n",
    "Wu:=U;"
   ]
  },
  {
   "cell_type":"code",
   "metadata":{},
   "outputs":[],
   "source":[
    "kUV<Vu>:=PowerSeriesRing(kU);\n",
    "Su:=Vu;"
   ]
  },
  {
   "cell_type":"code",
   "metadata":{},
   "outputs":[],
   "source":[
    "Q<Rpol>:=PolynomialRing(kUV);"
   ]
  },
  {
   "cell_type":"markdown",
   "metadata":{},
   "source":[
    "By definition we have an expression for $S$ and $W$ in $k(U)(Vu)$ as $W=U$ and $S=Vu$. It remains to find an expansion for $R$. From our observations above we note that when taking residues $\\overline{R}=a=\\sqrt{3}\\in k(W)$, as we mod out by $R^2-3$, and so we have a first order approximation. Applying Newton iteration gives us enough terms to compute residues."
   ]
  },
  {
   "cell_type":"code",
   "metadata":{},
   "outputs":[],
   "source":[
    "F:=Evaluate(DefiningPolynomial(Y), [Su, Rpol, Wu]);\n",
    "Fprime:=Derivative(F);\n",
    "Ru:=a;\n",
    "for i in [1..4] do\n",
    "    Temp:=Ru-Evaluate(F, Ru)/Evaluate(Fprime,Ru);\n",
    "    Ru:=Temp;\n",
    "end for;"
   ]
  },
  {
   "cell_type":"markdown",
   "metadata":{},
   "source":[
    "We verify that the power series $Su,Ru,Wu$ in $k(U)[[Vu]]$ that we have computed, indeed satisfy the defining polynomial for $Y$."
   ]
  },
  {
   "cell_type":"code",
   "metadata":{
    "scrolled":true
   },
   "outputs":[],
   "source":[
    "Evaluate(DefiningPolynomial(Y),[Su+O(Vu^4),Ru+O(Vu^4),Wu+O(Vu^4)]);"
   ]
  },
  {
   "cell_type":"markdown",
   "metadata":{},
   "source":[
    "In order to relate all this back to the original coordinates on $E$, we use the description of pi, that expresses $X,Y,T$ in terms of $X,V,W$, and since we have the latter as power series, we can substitute them to get the required results."
   ]
  },
  {
   "cell_type":"code",
   "metadata":{},
   "outputs":[],
   "source":[
    "Xu:=Evaluate(DefiningPolynomials(pi)[1], [Su, Ru, Wu]);\n",
    "Su:=Evaluate(DefiningPolynomials(pi)[3], [Su, Ru, Wu]);"
   ]
  },
  {
   "cell_type":"code",
   "metadata":{},
   "outputs":[],
   "source":[
    "Residues := ComputeAllInterestingResidues(Xu, Su, true);\n",
    "Append(~ResidueList,Residues);"
   ]
  },
  {
   "cell_type":"markdown",
   "metadata":{},
   "source":[
    "#### Patch 3"
   ]
  },
  {
   "cell_type":"markdown",
   "metadata":{},
   "source":[
    "Here we unpack the equations for the second exceptional component L on a patch Y of the desingularization $\\tilde{\\mathcal{E}}$ of $\\mathcal{E}$ over $((0,0), 1)$, together with the blowdown morphism $\\pi: Y \\to \\mathcal{E}$."
   ]
  },
  {
   "cell_type":"code",
   "metadata":{},
   "outputs":[],
   "source":[
    "L,Y,pi:=BlowUpDivisor(E_inf,Etilde_inf[1],2);"
   ]
  },
  {
   "cell_type":"markdown",
   "metadata":{},
   "source":[
    "Looking at the equation of $L$ we note that it has no rational points and is geometrically reducible. This means that the residue field $k(L)$ will be of the form $k(u)$ with $k$ some finite extension of $\\mathbb{Q}$; in our case $k=\\mathbb{Q}(\\sqrt{3})$."
   ]
  },
  {
   "cell_type":"code",
   "metadata":{},
   "outputs":[],
   "source":[
    "A3<P,R,W>:=Ambient(Y);\n",
    "L;"
   ]
  },
  {
   "cell_type":"markdown",
   "metadata":{},
   "source":[
    "Here we see that $L:W^2/972-(R+1/18)^2=0$ and therefore $L$ reducible to the product of two lines over $\\mathbb{Q}(\\sqrt{972})=\\mathbb{Q}(\\sqrt{3})$. Thus the residue field $\\kappa(L)$ is $\\mathbb{Q}(\\sqrt{3})(U)$ with $U=R$."
   ]
  },
  {
   "cell_type":"code",
   "metadata":{},
   "outputs":[],
   "source":[
    "k<a>:=QuadraticField(3);\n",
    "kU<U>:=FunctionField(k);\n",
    "Ru:=U;\n",
    "Wu:=(18*Ru+1)*a;"
   ]
  },
  {
   "cell_type":"code",
   "metadata":{},
   "outputs":[],
   "source":[
    "kUV<Vu>:=PowerSeriesRing(kU);\n",
    "Pu:=Vu;"
   ]
  },
  {
   "cell_type":"code",
   "metadata":{},
   "outputs":[],
   "source":[
    "Q<Wpol>:=PolynomialRing(kUV);"
   ]
  },
  {
   "cell_type":"code",
   "metadata":{},
   "outputs":[],
   "source":[
    "F:=Evaluate(DefiningPolynomial(Y), [Pu, Ru, Wpol]);\n",
    "Fprime:=Derivative(F);\n",
    "for i in [1..4] do\n",
    "    Temp:=Wu-Evaluate(F, Wu)/Evaluate(Fprime,Wu);\n",
    "    Wu:=Temp;\n",
    "end for;"
   ]
  },
  {
   "cell_type":"markdown",
   "metadata":{},
   "source":[
    "We verify that the power series $Pu,Ru,Wu$ in $k(U)[[Vu]]$ that we have computed, indeed satisfy the defining polynomial for $Y$."
   ]
  },
  {
   "cell_type":"code",
   "metadata":{
    "scrolled":true
   },
   "outputs":[],
   "source":[
    "Evaluate(DefiningPolynomial(Y),[Pu+O(Vu^4),Ru+O(Vu^4),Wu+O(Vu^4)]);"
   ]
  },
  {
   "cell_type":"markdown",
   "metadata":{},
   "source":[
    "In order to relate all this back to the original coordinates on $E$, we use the description of pi, that expresses $X,Y,T$ in terms of $P,R,W$, and since we have the latter as power series, we can substitute them to get the required results."
   ]
  },
  {
   "cell_type":"code",
   "metadata":{},
   "outputs":[],
   "source":[
    "Xu:=Evaluate(DefiningPolynomials(pi)[1], [Pu, Ru, Wu]);\n",
    "Su:=Evaluate(DefiningPolynomials(pi)[3], [Pu, Ru, Wu]);"
   ]
  },
  {
   "cell_type":"code",
   "metadata":{},
   "outputs":[],
   "source":[
    "Residues:=ComputeAllInterestingResidues(Xu, Su, true);\n",
    "Append(~ResidueList,Residues);"
   ]
  },
  {
   "cell_type":"markdown",
   "metadata":{},
   "source":[
    "#### Component 4"
   ]
  },
  {
   "cell_type":"markdown",
   "metadata":{},
   "source":[
    "Here we unpack the equations for the third exceptional component L on a patch Y of the desingularization $\\tilde{\\mathcal{E}}$ of $\\mathcal{E}$ over $((0,0), 1)$, together with the blowdown morphism $\\pi: Y \\to \\mathcal{E}$."
   ]
  },
  {
   "cell_type":"code",
   "metadata":{},
   "outputs":[],
   "source":[
    "L,Y,pi:=BlowUpDivisor(E_inf,Etilde_inf[1],3);"
   ]
  },
  {
   "cell_type":"code",
   "metadata":{},
   "outputs":[],
   "source":[
    "A3<S,R,W>:=Ambient(Y);\n",
    "L;"
   ]
  },
  {
   "cell_type":"markdown",
   "metadata":{},
   "source":[
    "We write down a parametrization of our conic $L$."
   ]
  },
  {
   "cell_type":"code",
   "metadata":{},
   "outputs":[],
   "source":[
    "kU<U>:=FunctionField(Rationals());\n",
    "A2<R0, W0>:=AffinePlane(Rationals());\n",
    "L0:=Curve(A2, Evaluate(DefiningPolynomials(L)[1], [0,R0,W0]));\n",
    "Ru, Wu:=ComputeParametrization(L0, GetRationalPoint(L0));\n",
    "assert forall{f: f in DefiningPolynomials(L) |Evaluate(f,[0,Ru,Wu]) eq 0};"
   ]
  },
  {
   "cell_type":"code",
   "metadata":{},
   "outputs":[],
   "source":[
    "kUV<Vu>:=PowerSeriesRing(kU);\n",
    "Su:=Vu;"
   ]
  },
  {
   "cell_type":"code",
   "metadata":{},
   "outputs":[],
   "source":[
    "Q<Wpol>:=PolynomialRing(kUV);"
   ]
  },
  {
   "cell_type":"markdown",
   "metadata":{},
   "source":[
    "Now we compute an expansion for $W$ in $\\mathbb{Q}(U)[[Vu]]$."
   ]
  },
  {
   "cell_type":"code",
   "metadata":{},
   "outputs":[],
   "source":[
    "F:=Evaluate(DefiningPolynomial(Y), [Su, Ru, Wpol]);\n",
    "Fprime:=Derivative(F);\n",
    "for i in [1..4] do\n",
    "    Temp:=Wu-Evaluate(F, Wu)/Evaluate(Fprime,Wu);\n",
    "    Wu:=Temp;\n",
    "end for;"
   ]
  },
  {
   "cell_type":"markdown",
   "metadata":{},
   "source":[
    "We verify that the power series $Su,Ru,Wu$ in $k(U)[[Vu]]$ that we have computed, indeed satisfy the defining polynomial for $Y$."
   ]
  },
  {
   "cell_type":"code",
   "metadata":{
    "scrolled":true
   },
   "outputs":[],
   "source":[
    "Evaluate(DefiningPolynomial(Y),[Su+O(Vu^4),Ru+O(Vu^4),Wu+O(Vu^4)]);"
   ]
  },
  {
   "cell_type":"markdown",
   "metadata":{},
   "source":[
    "In order to relate all this back to the original coordinates on X, we use the description of pi, that expresses $X,Y,S$ in terms of $S,R,W$, and since we have the latter as power series, we can substitute them to get the required results."
   ]
  },
  {
   "cell_type":"code",
   "metadata":{},
   "outputs":[],
   "source":[
    "Xu:=Evaluate(DefiningPolynomials(pi)[1], [Su, Ru, Wu]);\n",
    "Su:=Evaluate(DefiningPolynomials(pi)[3], [Su, Ru, Wu]);\n",
    "Xu+O(Vu^4);\n",
    "Su+O(Vu^4);"
   ]
  },
  {
   "cell_type":"code",
   "metadata":{},
   "outputs":[],
   "source":[
    "Residues := ComputeAllInterestingResidues(Xu, Su, true);\n",
    "Append(~ResidueList,Residues);\n",
    "Residues;"
   ]
  },
  {
   "cell_type":"markdown",
   "metadata":{},
   "source":[
    "**Working on analyzing the residues**"
   ]
  },
  {
   "cell_type":"code",
   "metadata":{},
   "outputs":[],
   "source":[
    "W:=[];\n",
    "for Vpair in ResidueList do\n",
    "    V:=&cat Vpair;\n",
    "    FnFactorBasis:={a[1]: a in &cat[Factorization(Numerator(v)): v in V] cat &cat[Factorization(Denominator(v)): v in V]};\n",
    "    KK:=Universe(V);\n",
    "    Kc:=BaseRing(KK);\n",
    "    OK:=IntegerRing(Kc);\n",
    "    if OK cmpeq IntegerRing() then\n",
    "      S:=PrimeFactors(6*&*[Numerator(c)*Denominator(c) where c:=LeadingCoefficient(Numerator(a)): a in V]);\n",
    "      arch_modsquares:=func< c | [Sign(c) eq 1 select 0 else 1]>;\n",
    "    else\n",
    "      S:=Support(6*&*[Numerator(c)*Denominator(c) where c:=LeadingCoefficient(Numerator(a)): a in V]*OK);\n",
    "      arch_modsquares:=func< c | [s eq 1 select 0 else 1 : s in RealSigns(c)]>;\n",
    "    end if;\n",
    "    selmaps:=[* arch_modsquares *];\n",
    "    for p in S do\n",
    "       Kc_complete,toKc:=Completion(Kc,p);\n",
    "       _,toSel:=pSelmerGroup(2,Kc_complete);\n",
    "       Append(~selmaps,func<c | Eltseq(toSel(toKc(c)))>);\n",
    "    end for;\n",
    "    \n",
    "    //Append(~W,[\n",
    "    //    [Valuation(v,p): p in FnFactorBasis] cat &cat[s(LeadingCoefficient(Numerator(v))):s in selmaps]:v in V]);\n",
    "    Append(~W,[[Valuation(v,p): p in FnFactorBasis]:v in V]);\n",
    "end for;"
   ]
  },
  {
   "cell_type":"code",
   "metadata":{
    "scrolled":false
   },
   "outputs":[],
   "source":[
    "M:=Matrix(GF(2),[&cat[w[i]: w in W]: i in [1..#W[1]]]);\n",
    "bs:=Kernel(M);"
   ]
  },
  {
   "cell_type":"code",
   "metadata":{},
   "outputs":[],
   "source":[
    "WW:=Matrix(GF(2),[[0,1,1,1,1,0,0,0,0,1,1,1,0,1,0,0]]);\n",
    "WW*M;"
   ]
  },
  {
   "cell_type":"code",
   "metadata":{},
   "outputs":[],
   "source":[
    "vectoalg:=func<b|<&*[Parent(T)|[-1,2,3,T, T+1, T-1, T+3, T-3, -1,2,3,T, T+1, T-1, T+3, T-3][i]: i in [1..8] | b[i] eq 1],\n",
    "  &*[Parent(T)|[-1,2,3,T, T+1, T-1, T+3, T-3, -1,2,3,T, T+1, T-1, T+3, T-3][i]: i in [9..16] | b[i] eq 1]>>;"
   ]
  },
  {
   "cell_type":"code",
   "metadata":{},
   "outputs":[],
   "source":[
    "imgx0:=([1,0,1,0,1,0,0,1, 1,0,1,0,0,1,1,0]); // 2-torsion\n",
    "imgx1:= [0,0,1,1,0,0,0,0, 0,0,0,1,0,1,1,0];  // 2-torsion\n",
    "imgB:= [0,0,0,1,0,0,0,0, 0,0,0,1,0,0,0,0];\n",
    "imgA:= [0,1,1,1,1,0,0,0,0,1,1,1,0,1,0,0];\n",
    "\n",
    "imgm1z:=[1,0,0,0,0,0,0,0, 0,0,0,0,0,0,0,0];\n",
    "img2z:=[0,1,0,0,0,0,0,0, 0,0,0,0,0,0,0,0];\n",
    "img3z:=[0,0,1,0,0,0,0,0, 0,0,0,0,0,0,0,0];\n",
    "imgzm1:=[0,0,0,0,0,0,0,0, 1,0,0,0,0,0,0,0];\n",
    "imgz2:=[0,0,0,0,0,0,0,0, 0,1,0,0,0,0,0,0];\n",
    "imgz3:=[0,0,0,0,0,0,0,0, 0,0,1,0,0,0,0,0];"
   ]
  },
  {
   "cell_type":"code",
   "metadata":{},
   "outputs":[],
   "source":[
    "bs;"
   ]
  },
  {
   "cell_type":"code",
   "metadata":{},
   "outputs":[],
   "source":[
    "sub<bs|imgx0,imgx1,imgB,imgA,imgm1z,img2z,img3z,imgzm1,imgz2,imgz3>;"
   ]
  },
  {
   "cell_type":"code",
   "metadata":{},
   "outputs":[],
   "source":[
    "Factor(vectoalg(imgx1)[2]);"
   ]
  },
  {
   "cell_type":"code",
   "metadata":{},
   "outputs":[],
   "source":[
    "[r[2][6]: r in ResidueList];"
   ]
  },
  {
   "cell_type":"code",
   "metadata":{},
   "outputs":[],
   "source":[
    "[Factor(r[1][4]*r[2][4]): r in ResidueList];"
   ]
  },
  {
   "cell_type":"code",
   "metadata":{},
   "outputs":[],
   "source":[]
  }
 ],
 "metadata":{
  "git":{
   "suppress_outputs":true
  },
  "kernelspec":{
   "display_name":"Magma",
   "language":"magma",
   "name":"magma"
  },
  "language_info":{
   "codemirror_mode":"magma",
   "file_extension":".m",
   "mimetype":"text/x-magma",
   "name":"magma",
   "version":"2.24-6"
  }
 },
 "nbformat":4,
 "nbformat_minor":2
}