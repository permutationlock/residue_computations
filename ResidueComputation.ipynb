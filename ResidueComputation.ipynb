{
 "cells":[
  {
   "cell_type":"markdown",
   "metadata":{},
   "source":[
    "### Finding power series expansions along exceptional components\n",
    "------------------------------------------------------------------------------------------\n",
    "First we define the surface, for now only in affine form. This is the surface Wittenberg works with in his article"
   ]
  },
  {
   "cell_type":"code",
   "metadata":{},
   "outputs":[],
   "source":[
    "A3<x,y,t>:=AffineSpace(Rationals(),3);\n",
    "p:=3*(t-1)^3*(t+3);\n",
    "q:=Evaluate(p,[x,y,-t]);\n",
    "F:=y^2-x*(x-p)*(x-q);\n",
    "E:=Surface(A3,F);"
   ]
  },
  {
   "cell_type":"markdown",
   "metadata":{},
   "source":[
    "We also must compute the equations for $E$ on the affine patch about infinity."
   ]
  },
  {
   "cell_type":"code",
   "metadata":{},
   "outputs":[],
   "source":[
    "p_inf:=3*(1-t)^3*(1+3*t);\n",
    "q_inf:=3*(-1-t)^3*(-1+3*t);\n",
    "F_inf:=y^2-x*(x-p_inf)*(x-q_inf);\n",
    "E_inf:=Surface(A3, F_inf);"
   ]
  },
  {
   "cell_type":"markdown",
   "metadata":{},
   "source":[
    "We check the discriminant of the elliptic curve. We need to do some hacky algebra to extract the polynomial we're interested in."
   ]
  },
  {
   "cell_type":"code",
   "metadata":{},
   "outputs":[],
   "source":[
    "Factorization(Discriminant(F-y^2,x));\n",
    "Factorization(Discriminant(F_inf-y^2,x));"
   ]
  },
  {
   "cell_type":"markdown",
   "metadata":{},
   "source":[
    "Singular subscheme, and some of the points in the support"
   ]
  },
  {
   "cell_type":"code",
   "metadata":{},
   "outputs":[],
   "source":[
    "Support(SingularSubscheme(E));\n",
    "Support(SingularSubscheme(E_inf));"
   ]
  },
  {
   "cell_type":"code",
   "metadata":{},
   "outputs":[],
   "source":[
    "Etilde:=DesingulariseSurfaceByBlowUp(E);\n",
    "Length(Etilde[2]);\n",
    "Etilde_inf:=DesingulariseSurfaceByBlowUp(E_inf);"
   ]
  },
  {
   "cell_type":"markdown",
   "metadata":{},
   "source":[
    "### Residue formula"
   ]
  },
  {
   "cell_type":"markdown",
   "metadata":{},
   "source":[
    "Given a complete local DVR $R$ with uniformizer $\\pi$ and residue field $k$, we compute the residue of a quaternion algebra $(f,g)$ as the class of $(-1)^{v(f)v(g)}\\widetilde{f}^{v(g)}\\widetilde{g}^{v(f)}$ in $k^*/k^{*2}$ where for any $h\\in R$ we define $\\widetilde{h}=h\\pi^{-v(h)}$."
   ]
  },
  {
   "cell_type":"code",
   "metadata":{},
   "outputs":[],
   "source":[
    "function ComputeResidue(f, g)\n",
    "    vf:=Valuation(f);\n",
    "    vg:=Valuation(g);\n",
    "    \n",
    "    f_0:=Coefficients(f)[1];\n",
    "    g_0:=Coefficients(g)[1];\n",
    "    \n",
    "    return f_0^(vg)*g_0^(vf)*(-1)^(vf*vg);\n",
    "end function;\n",
    "\n",
    "function IsSquareQU(f)\n",
    "    R := PolynomialRing(Integers());\n",
    "    return IsSquare(R ! Numerator(f)) and IsSquare(R ! Denominator(f));\n",
    "end function;\n",
    "\n",
    "function ComputeAllInterestingResidues(X, T, IsInf)\n",
    "    if IsInf then\n",
    "        PT := 3*(1-T)^3*(1+3*T);\n",
    "        QT := 3*(-1-T)^3*(-1+3*T);\n",
    "    else\n",
    "        PT := 3*(T-1)^3*(T+3);\n",
    "        QT := 3*(-T-1)^3*(-T+3);\n",
    "    end if;\n",
    "    Glist := [X-PT, X-QT];\n",
    "    Flist := [T, T+1, T-1, T+3, T-3];\n",
    "    if IsInf then\n",
    "        Flist := [T, 1+T, 1-T, 1+3*T, 1-3*T];\n",
    "    end if;\n",
    "    return [ [ ComputeResidue(f,g) : f in Flist ] : g in Glist];\n",
    "end function;"
   ]
  },
  {
   "cell_type":"markdown",
   "metadata":{},
   "source":[
    "## Computing list of residues for all bad fibers"
   ]
  },
  {
   "cell_type":"markdown",
   "metadata":{},
   "source":[
    "### Computing residue at ((-9, 0), 0) "
   ]
  },
  {
   "cell_type":"markdown",
   "metadata":{},
   "source":[
    "#### Component 1"
   ]
  },
  {
   "cell_type":"markdown",
   "metadata":{},
   "source":[
    "Here we are computing the residue along the original singular fiber $\\mathcal{E}_0$."
   ]
  },
  {
   "cell_type":"code",
   "metadata":{},
   "outputs":[],
   "source":[
    "A2<x2,y2>:=AffinePlane(Rationals());\n",
    "L:=Curve(A2, Evaluate(DefiningPolynomial(E), [x2,y2,0]));\n",
    "L;"
   ]
  },
  {
   "cell_type":"markdown",
   "metadata":{},
   "source":[
    "We define a rational function field that we use to parametrize the exceptional component L with"
   ]
  },
  {
   "cell_type":"code",
   "metadata":{},
   "outputs":[],
   "source":[
    "kU<U>:=FunctionField(Rationals(), 1);"
   ]
  },
  {
   "cell_type":"markdown",
   "metadata":{},
   "source":[
    "We write down a parametrization of L and check that it satisfies that parametrization. In particular, we see that \"V\" on Y vanishes on L (we'll see we can use it as a uniformizer at the generic point of L)"
   ]
  },
  {
   "cell_type":"code",
   "metadata":{},
   "outputs":[],
   "source":[
    "Xu:=U^2;\n",
    "Yu:=U^3+9*U;\n",
    "assert forall{f: f in DefiningPolynomials(L) |Evaluate(f,[Xu,Yu]) eq 0};"
   ]
  },
  {
   "cell_type":"code",
   "metadata":{},
   "outputs":[],
   "source":[
    "kUV<Vu>:=PowerSeriesRing(kU);\n",
    "Tu:=Vu;"
   ]
  },
  {
   "cell_type":"code",
   "metadata":{},
   "outputs":[],
   "source":[
    "Residues := ComputeAllInterestingResidues(Xu, Tu, false);\n",
    "ResidueArray:=AssociativeArray(Integers());\n",
    "ResidueArray[0]:=AssociativeArray(Integers());\n",
    "ResidueArray[0][1]:=Residues;"
   ]
  },
  {
   "cell_type":"markdown",
   "metadata":{},
   "source":[
    "#### Component 2"
   ]
  },
  {
   "cell_type":"markdown",
   "metadata":{},
   "source":[
    "Here we unpack the equations for the first exceptional component L on a patch Y of the desingularization $\\tilde{\\mathcal{E}}$ of $\\mathcal{E}$ over $((-9, 0),0)$, together with the blowdown morphism $\\pi: Y \\to \\mathcal{E}$."
   ]
  },
  {
   "cell_type":"code",
   "metadata":{},
   "outputs":[],
   "source":[
    "L,Y,pi:=BlowUpDivisor(E,Etilde[1],1);\n",
    "A3<T,S,W>:=Ambient(Y);"
   ]
  },
  {
   "cell_type":"markdown",
   "metadata":{},
   "source":[
    "We define a rational function field that we use to parametrize the exceptional component L with"
   ]
  },
  {
   "cell_type":"code",
   "metadata":{},
   "outputs":[],
   "source":[
    "kU<U>:=FunctionField(Rationals(),1);"
   ]
  },
  {
   "cell_type":"markdown",
   "metadata":{},
   "source":[
    "We write down a parametrization of L and check that it satisfies that parametrization. In particular, we see that \"V\" on Y vanishes on L (we'll see we can use it as a uniformizer at the generic point of L)"
   ]
  },
  {
   "cell_type":"code",
   "metadata":{},
   "outputs":[],
   "source":[
    "Su:=3/2*(U^2-1)/U;\n",
    "Wu:=1/48*(U^2+1)/U;\n",
    "assert forall{f: f in DefiningPolynomials(L) |Evaluate(f,[0,Su,Wu]) eq 0};"
   ]
  },
  {
   "cell_type":"code",
   "metadata":{},
   "outputs":[],
   "source":[
    "kUV<Vu>:=PowerSeriesRing(kU);\n",
    "Tu:=Vu;"
   ]
  },
  {
   "cell_type":"code",
   "metadata":{},
   "outputs":[],
   "source":[
    "R<Wpol>:=PolynomialRing(kUV);"
   ]
  },
  {
   "cell_type":"markdown",
   "metadata":{},
   "source":[
    "Below we compute a higher order approximation of $W$ in the power series ring $k(U)[[V]]$."
   ]
  },
  {
   "cell_type":"code",
   "metadata":{},
   "outputs":[],
   "source":[
    "F:=Evaluate(DefiningPolynomial(Y), [Tu, Su, Wpol]);\n",
    "Fprime:=Derivative(F);\n",
    "for i in [1..4] do\n",
    "    Temp:=Wu-Evaluate(F, Wu)/Evaluate(Fprime,Wu);\n",
    "    Wu:=Temp;\n",
    "end for;"
   ]
  },
  {
   "cell_type":"markdown",
   "metadata":{},
   "source":[
    "We verify that the power series in $k(U)[[V]]$ that we have computed, indeed satisfy the defining polynomial for $Y$."
   ]
  },
  {
   "cell_type":"code",
   "metadata":{
    "scrolled":true
   },
   "outputs":[],
   "source":[
    "Evaluate(DefiningPolynomial(Y),[Tu,Su,Wu])+O(Tu^(10));"
   ]
  },
  {
   "cell_type":"markdown",
   "metadata":{},
   "source":[
    "In order to relate all this back to the original coordinates on X, we use the description of pi, that expresses $X,Y,T$ in terms of $T,S,W$, and since we have the latter as power series, we can substitute them to get the required results."
   ]
  },
  {
   "cell_type":"code",
   "metadata":{},
   "outputs":[],
   "source":[
    "Xu:=Evaluate(DefiningPolynomials(pi)[1], [Tu, Vu, Wu]);\n",
    "Tu:=Evaluate(DefiningPolynomials(pi)[3], [Tu, Vu, Wu]);"
   ]
  },
  {
   "cell_type":"code",
   "metadata":{},
   "outputs":[],
   "source":[
    "Residues := ComputeAllInterestingResidues(Xu, Tu, false);\n",
    "ResidueArray[0][2]:=Residues;"
   ]
  },
  {
   "cell_type":"markdown",
   "metadata":{},
   "source":[
    "### Computing residue at ((0, 0), -3) "
   ]
  },
  {
   "cell_type":"markdown",
   "metadata":{},
   "source":[
    "#### Component 1"
   ]
  },
  {
   "cell_type":"markdown",
   "metadata":{},
   "source":[
    "Here we are computing the residue along the original singular fiber $\\mathcal{E}_{-3}$."
   ]
  },
  {
   "cell_type":"code",
   "metadata":{},
   "outputs":[],
   "source":[
    "A2<x2,y2>:=AffinePlane(Rationals());\n",
    "L:=Curve(A2, Evaluate(DefiningPolynomial(E), [x2,y2,-3]));\n",
    "L;"
   ]
  },
  {
   "cell_type":"markdown",
   "metadata":{},
   "source":[
    "We define a rational function field that we use to parametrize the exceptional component L with"
   ]
  },
  {
   "cell_type":"code",
   "metadata":{},
   "outputs":[],
   "source":[
    "kU<U>:=FunctionField(Rationals(), 1);"
   ]
  },
  {
   "cell_type":"markdown",
   "metadata":{},
   "source":[
    "We write down a parametrization of L and check that it satisfies that parametrization."
   ]
  },
  {
   "cell_type":"code",
   "metadata":{},
   "outputs":[],
   "source":[
    "Xu:=U^2+144;\n",
    "Yu:=U^3+144*U;\n",
    "assert forall{f: f in DefiningPolynomials(L) |Evaluate(f,[Xu,Yu]) eq 0};"
   ]
  },
  {
   "cell_type":"code",
   "metadata":{},
   "outputs":[],
   "source":[
    "kUV<Vu>:=PowerSeriesRing(kU);\n",
    "Tu:=Vu-3;"
   ]
  },
  {
   "cell_type":"code",
   "metadata":{},
   "outputs":[],
   "source":[
    "Residues := ComputeAllInterestingResidues(Xu, Tu, false);\n",
    "ResidueArray[-3]:=AssociativeArray(Integers());\n",
    "ResidueArray[-3][1]:=Residues;"
   ]
  },
  {
   "cell_type":"markdown",
   "metadata":{},
   "source":[
    "#### Component 2"
   ]
  },
  {
   "cell_type":"markdown",
   "metadata":{},
   "source":[
    "Here we unpack the equations for the first exceptional component L on a patch Y of the desingularization $\\tilde{\\mathcal{E}}$ of $\\mathcal{E}$ over $((0,0), 3)$, together with the blowdown morphism $\\pi: Y \\to \\mathcal{E}$."
   ]
  },
  {
   "cell_type":"code",
   "metadata":{},
   "outputs":[],
   "source":[
    "L,Y,pi:=BlowUpDivisor(E,Etilde[2],1);\n",
    "A3<X,S,W>:=Ambient(Y);\n",
    "L;"
   ]
  },
  {
   "cell_type":"markdown",
   "metadata":{},
   "source":[
    "We define a rational function field that we use to parametrize the exceptional component L with"
   ]
  },
  {
   "cell_type":"code",
   "metadata":{},
   "outputs":[],
   "source":[
    "kU<U>:=FunctionField(Rationals(),1);"
   ]
  },
  {
   "cell_type":"markdown",
   "metadata":{},
   "source":[
    "Below we find a parametrization of $L$."
   ]
  },
  {
   "cell_type":"code",
   "metadata":{},
   "outputs":[],
   "source":[
    "Lc,phiL:=Conic(ProjectiveClosure(L));\n",
    "piL:=Parametrization(Lc);\n",
    "Q<x, s, w>:=FunctionField(L);\n",
    "kU<U>:=FunctionField(Domain(piL));\n",
    "Su:=Pullback(piL, Pullback(Inverse(phiL), s));\n",
    "Wu:=Pullback(piL, Pullback(Inverse(phiL), w));\n",
    "assert forall{f: f in DefiningPolynomials(L) |Evaluate(f,[0,Su,Wu]) eq 0};"
   ]
  },
  {
   "cell_type":"code",
   "metadata":{},
   "outputs":[],
   "source":[
    "kUV<Vu>:=PowerSeriesRing(kU);\n",
    "Xu:=Vu;"
   ]
  },
  {
   "cell_type":"markdown",
   "metadata":{},
   "source":[
    "Below we compute a higher order approximation of $W$ in the power series ring $k(U)[[V]]$."
   ]
  },
  {
   "cell_type":"code",
   "metadata":{},
   "outputs":[],
   "source":[
    "R<Wpol>:=PolynomialRing(kUV);\n",
    "F:=Evaluate(DefiningPolynomial(Y), [Xu, Su, Wpol]);\n",
    "Fprime:=Derivative(F);\n",
    "for i in [1..4] do\n",
    "    Temp:=Wu-Evaluate(F, Wu)/Evaluate(Fprime,Wu);\n",
    "    Wu:=Temp;\n",
    "end for;"
   ]
  },
  {
   "cell_type":"markdown",
   "metadata":{},
   "source":[
    "We verify that the power series in $k(U)[[V]]$ that we have computed, indeed satisfy the defining polynomial for $Y$."
   ]
  },
  {
   "cell_type":"code",
   "metadata":{
    "scrolled":true
   },
   "outputs":[],
   "source":[
    "Evaluate(DefiningPolynomial(Y),[Xu,Su,Wu])+O(Vu^8);"
   ]
  },
  {
   "cell_type":"code",
   "metadata":{},
   "outputs":[],
   "source":[
    "Xu:=Evaluate(DefiningPolynomials(pi)[1], [Xu, Su, Wu]);\n",
    "Tu:=Evaluate(DefiningPolynomials(pi)[3], [Xu, Su, Wu]);"
   ]
  },
  {
   "cell_type":"code",
   "metadata":{},
   "outputs":[],
   "source":[
    "Residues := ComputeAllInterestingResidues(Xu, Tu, false);\n",
    "ResidueArray[-3][2]:=Residues;"
   ]
  },
  {
   "cell_type":"markdown",
   "metadata":{},
   "source":[
    "### Computing residues at ((0, 0), -1) "
   ]
  },
  {
   "cell_type":"markdown",
   "metadata":{},
   "source":[
    "#### Component 1"
   ]
  },
  {
   "cell_type":"markdown",
   "metadata":{},
   "source":[
    "Here we compute the residue at the original component of $\\mathcal{E}_{-1}$"
   ]
  },
  {
   "cell_type":"code",
   "metadata":{},
   "outputs":[],
   "source":[
    "A2<x2,y2>:=AffinePlane(Rationals());\n",
    "L:=Curve(A2, Evaluate(DefiningPolynomial(E), [x2,y2,-1]));\n",
    "L;"
   ]
  },
  {
   "cell_type":"markdown",
   "metadata":{},
   "source":[
    "We define a rational function field that we use to parametrize the exceptional component L with"
   ]
  },
  {
   "cell_type":"code",
   "metadata":{},
   "outputs":[],
   "source":[
    "kU<U>:=FunctionField(Rationals(), 1);"
   ]
  },
  {
   "cell_type":"markdown",
   "metadata":{},
   "source":[
    "We write down a parametrization of L and check that it satisfies that parametrization. In particular, we see that \"V\" on Y vanishes on L (we'll see we can use it as a uniformizer at the generic point of L)"
   ]
  },
  {
   "cell_type":"code",
   "metadata":{},
   "outputs":[],
   "source":[
    "Xu:=U^2-48;\n",
    "Yu:=U^3-48*U;\n",
    "assert forall{f: f in DefiningPolynomials(L) |Evaluate(f,[Xu,Yu]) eq 0};"
   ]
  },
  {
   "cell_type":"code",
   "metadata":{},
   "outputs":[],
   "source":[
    "kUV<Vu>:=PowerSeriesRing(kU);\n",
    "Tu:=Vu-1;"
   ]
  },
  {
   "cell_type":"markdown",
   "metadata":{},
   "source":[
    "In order to relate all this back to the original coordinates on X, we use the description of pi, that expresses $X,Y,T$ in terms of $V,W,T$ (apologies for the mess-up in naming here: the two $T$s are not the same), and since we have the latter as power series, we can substitute them to get the required results."
   ]
  },
  {
   "cell_type":"code",
   "metadata":{
    "scrolled":true
   },
   "outputs":[],
   "source":[
    "Residues := ComputeAllInterestingResidues(Xu, Tu, false);\n",
    "ResidueArray[-1]:=AssociativeArray(Integers());\n",
    "ResidueArray[-1][1]:=Residues;"
   ]
  },
  {
   "cell_type":"markdown",
   "metadata":{},
   "source":[
    "#### Component 2"
   ]
  },
  {
   "cell_type":"markdown",
   "metadata":{},
   "source":[
    "Here we unpack the equations for the first exceptional component L on a patch Y of the desingularization $\\tilde{\\mathcal{E}}$ of $\\mathcal{E}$ over $((0,0), -1)$, together with the blowdown morphism $\\pi: Y \\to \\mathcal{E}$."
   ]
  },
  {
   "cell_type":"code",
   "metadata":{},
   "outputs":[],
   "source":[
    "L,Y,pi:=BlowUpDivisor(E,Etilde[3],1);"
   ]
  },
  {
   "cell_type":"markdown",
   "metadata":{},
   "source":[
    "Looking at the equation of $L$ we note that it has no rational points and is geometrically reducible. This means that the residue field $k(L)$ will be of the form $k(u)$ with $k$ some finite extension of $\\mathbb{Q}$; in our case $k=\\mathbb{Q}(\\sqrt{48})=\\mathbb{Q}(\\sqrt{3})$."
   ]
  },
  {
   "cell_type":"code",
   "metadata":{},
   "outputs":[],
   "source":[
    "A3<X,V,W>:=Ambient(Y);\n",
    "L;"
   ]
  },
  {
   "cell_type":"markdown",
   "metadata":{},
   "source":[
    "Note that $L:V^2-48=0, X=0$ has no rational points and is geometrically reducible. In particular, one can work out that the residue field is $\\kappa(L)=k(W)$ where $k=\\mathbb{Q}(a)$ and $a$ is a square root of $3$. Below we define the extension $k/\\mathbb{Q}$ as well as a rational function field that we will use to parametrize the exceptional component L with."
   ]
  },
  {
   "cell_type":"code",
   "metadata":{},
   "outputs":[],
   "source":[
    "k<a>:=QuadraticField(48);\n",
    "kU<U>:=FunctionField(k,1);\n",
    "Wu:=U;"
   ]
  },
  {
   "cell_type":"code",
   "metadata":{},
   "outputs":[],
   "source":[
    "kUX<Xu>:=PowerSeriesRing(kU);"
   ]
  },
  {
   "cell_type":"code",
   "metadata":{},
   "outputs":[],
   "source":[
    "R<Vpol>:=PolynomialRing(kUX);"
   ]
  },
  {
   "cell_type":"markdown",
   "metadata":{},
   "source":[
    "By definition we have an expression for $X$ and $W$ in $k(U)(Xu)$ as $W=U$ and $X=Xu$. It remains to find an expansion for $V$. From our observations above we note that when taking residues $\\overline{V}=4a=4\\sqrt{3}\\in k(W)$, as we mod out by $V^2-48$, and so we have a first order approximation. Applying Newton iteration gives us enough terms to compute residues."
   ]
  },
  {
   "cell_type":"code",
   "metadata":{},
   "outputs":[],
   "source":[
    "F:=Evaluate(DefiningPolynomial(Y), [Xu, Vpol, Wu]);\n",
    "Fprime:=Derivative(F);\n",
    "Vu:=4*a;\n",
    "for i in [1..4] do\n",
    "    Temp:=Vu-Evaluate(F, Vu)/Evaluate(Fprime,Vu);\n",
    "    Vu:=Temp;\n",
    "end for;"
   ]
  },
  {
   "cell_type":"markdown",
   "metadata":{},
   "source":[
    "We verify that the power series $Xu,Vu,Wu$ in $k(U)[[Xu]]$ that we have computed, indeed satisfy the defining polynomial for $Y$."
   ]
  },
  {
   "cell_type":"code",
   "metadata":{
    "scrolled":true
   },
   "outputs":[],
   "source":[
    "Evaluate(DefiningPolynomial(Y),[Xu,Vu,Wu])+O(Xu^10);"
   ]
  },
  {
   "cell_type":"markdown",
   "metadata":{},
   "source":[
    "In order to relate all this back to the original coordinates on X, we use the description of pi, that expresses $X,Y,T$ in terms of $X,V,W$, and since we have the latter as power series, we can substitute them to get the required results."
   ]
  },
  {
   "cell_type":"code",
   "metadata":{
    "lines_to_next_cell":0
   },
   "outputs":[],
   "source":[
    "Xu:=Evaluate(DefiningPolynomials(pi)[1], [Xu, Vu, Wu]);\n",
    "Tu:=Evaluate(DefiningPolynomials(pi)[3], [Xu, Vu, Wu]);"
   ]
  },
  {
   "cell_type":"markdown",
   "metadata":{},
   "source":[
    "\n"
   ]
  },
  {
   "cell_type":"code",
   "metadata":{},
   "outputs":[],
   "source":[
    "Residues := ComputeAllInterestingResidues(Xu, Tu, false);\n",
    "ResidueArray[-1][2]:=Residues;"
   ]
  },
  {
   "cell_type":"markdown",
   "metadata":{},
   "source":[
    "#### Component 3"
   ]
  },
  {
   "cell_type":"markdown",
   "metadata":{},
   "source":[
    "Here we unpack the equations for the second exceptional component L on a patch Y of the desingularization $\\tilde{\\mathcal{E}}$ of $\\mathcal{E}$ over $((0,0), -1)$, together with the blowdown morphism $\\pi: Y \\to \\mathcal{E}$."
   ]
  },
  {
   "cell_type":"code",
   "metadata":{},
   "outputs":[],
   "source":[
    "L,Y,pi:=BlowUpDivisor(E,Etilde[3],3);"
   ]
  },
  {
   "cell_type":"markdown",
   "metadata":{},
   "source":[
    "Looking at the equation of $L$ we note that it has no rational points and is geometrically reducible. This means that the residue field $k(L)$ will be of the form $k(u)$ with $k$ some finite extension of $\\mathbb{Q}$; in our case $k=\\mathbb{Q}(\\sqrt{48})=\\mathbb{Q}(\\sqrt{3})$."
   ]
  },
  {
   "cell_type":"code",
   "metadata":{},
   "outputs":[],
   "source":[
    "A3<X,S,W>:=Ambient(Y);\n",
    "L;"
   ]
  },
  {
   "cell_type":"markdown",
   "metadata":{},
   "source":[
    "We define the extension $k/\\mathbb{Q}$ as well as a rational function field that we will use to parametrize the exceptional component L with."
   ]
  },
  {
   "cell_type":"code",
   "metadata":{},
   "outputs":[],
   "source":[
    "kU<U>:=FunctionField(Rationals(), 1);\n",
    "Su:=12*U^2/(-U^2+1/48);\n",
    "Wu:=12*U/(-U^2+1/48);\n",
    "assert forall{f: f in DefiningPolynomials(L) |Evaluate(f,[-1,Su,Wu]) eq 0};"
   ]
  },
  {
   "cell_type":"code",
   "metadata":{},
   "outputs":[],
   "source":[
    "kUV<Vu>:=PowerSeriesRing(kU);\n",
    "Xu:=Vu-1;"
   ]
  },
  {
   "cell_type":"code",
   "metadata":{},
   "outputs":[],
   "source":[
    "R<Wpol>:=PolynomialRing(kUV);"
   ]
  },
  {
   "cell_type":"markdown",
   "metadata":{},
   "source":[
    "By definition we have an expression for $X$ and $W$ in $k(U)(Xu)$ as $W=U$ and $X=Xu$. It remains to find an expansion for $V$. We note that when taking residues we have $\\overline{V}=4a=4\\sqrt{3}$, as we mod out by $V^2-48$, and so we have a first order approximation. Applying Newton iteration gives us enough terms to compute residues."
   ]
  },
  {
   "cell_type":"code",
   "metadata":{},
   "outputs":[],
   "source":[
    "F:=Evaluate(DefiningPolynomial(Y), [Xu, Su, Wpol]);\n",
    "Fprime:=Derivative(F);\n",
    "for i in [1..2] do\n",
    "    Temp:=Wu-Evaluate(F, Wu)/Evaluate(Fprime,Wu);\n",
    "    Wu:=Temp;\n",
    "end for;"
   ]
  },
  {
   "cell_type":"markdown",
   "metadata":{},
   "source":[
    "We verify that the power series $Xu,Vu,Wu$ in $k(U)[[Xu]]$ that we have computed, indeed satisfy the defining polynomial for $Y$."
   ]
  },
  {
   "cell_type":"code",
   "metadata":{
    "scrolled":true
   },
   "outputs":[],
   "source":[
    "Evaluate(DefiningPolynomial(Y),[Xu,Su,Wu])+O(Vu^6);"
   ]
  },
  {
   "cell_type":"markdown",
   "metadata":{},
   "source":[
    "In order to relate all this back to the original coordinates on X, we use the description of pi, that expresses $X,Y,T$ in terms of $X,V,W$, and since we have the latter as power series, we can substitute them to get the required results."
   ]
  },
  {
   "cell_type":"code",
   "metadata":{},
   "outputs":[],
   "source":[
    "Xu:=Evaluate(DefiningPolynomials(pi)[1], [Xu, Su, Wu]);\n",
    "Tu:=Evaluate(DefiningPolynomials(pi)[3], [Xu, Su, Wu]);"
   ]
  },
  {
   "cell_type":"code",
   "metadata":{},
   "outputs":[],
   "source":[
    "Residues := ComputeAllInterestingResidues(Xu, Tu, false);\n",
    "ResidueArray[-1][3]:=Residues;"
   ]
  },
  {
   "cell_type":"markdown",
   "metadata":{},
   "source":[
    "#### Component 4"
   ]
  },
  {
   "cell_type":"markdown",
   "metadata":{},
   "source":[
    "Here we unpack the equations for the third exceptional component L on a patch Y of the desingularization $\\tilde{\\mathcal{E}}$ of $\\mathcal{E}$ over $((0,0), -1)$, together with the blowdown morphism $\\pi: Y \\to \\mathcal{E}$."
   ]
  },
  {
   "cell_type":"code",
   "metadata":{},
   "outputs":[],
   "source":[
    "L,Y,pi:=BlowUpDivisor(E,Etilde[3],3);"
   ]
  },
  {
   "cell_type":"code",
   "metadata":{},
   "outputs":[],
   "source":[
    "A3<T,V,W>:=Ambient(Y);\n",
    "L;"
   ]
  },
  {
   "cell_type":"markdown",
   "metadata":{},
   "source":[
    "We write down a parametrization of our conic $L$. For the parametrization below we took the projective closure and projected away from the rational point $[0,0,1]$."
   ]
  },
  {
   "cell_type":"code",
   "metadata":{},
   "outputs":[],
   "source":[
    "kU<U>:=FunctionField(Rationals(), 1);\n",
    "Vu:=(-6*U^2-1/8)/(-U^2+1/48)-6;\n",
    "Wu:=-12*U/(-U^2+1/48);\n",
    "assert forall{f: f in DefiningPolynomials(L) |Evaluate(f,[-1,Vu,Wu]) eq 0};"
   ]
  },
  {
   "cell_type":"code",
   "metadata":{},
   "outputs":[],
   "source":[
    "kUT<Tu>:=PowerSeriesRing(kU);"
   ]
  },
  {
   "cell_type":"code",
   "metadata":{},
   "outputs":[],
   "source":[
    "R<Wpol>:=PolynomialRing(kUT);"
   ]
  },
  {
   "cell_type":"markdown",
   "metadata":{},
   "source":[
    "Now we compute an expansion for $W$ in $\\mathbb{Q}(U)[[T]]$."
   ]
  },
  {
   "cell_type":"code",
   "metadata":{},
   "outputs":[],
   "source":[
    "F:=Evaluate(DefiningPolynomial(Y), [Tu-1, Vu, Wpol]);\n",
    "Fprime:=Derivative(F);\n",
    "for i in [1..4] do\n",
    "    Temp:=Wu-Evaluate(F, Wu)/Evaluate(Fprime,Wu);\n",
    "    Wu:=Temp;\n",
    "end for;"
   ]
  },
  {
   "cell_type":"markdown",
   "metadata":{},
   "source":[
    "We verify that the power series $Tu-1,Vu,Wu$ in $k(U)[[Tu]]$ that we have computed, indeed satisfy the defining polynomial for $Y$."
   ]
  },
  {
   "cell_type":"code",
   "metadata":{
    "scrolled":true
   },
   "outputs":[],
   "source":[
    "Evaluate(DefiningPolynomial(Y),[Tu-1,Vu,Wu])+O(Tu^8);"
   ]
  },
  {
   "cell_type":"markdown",
   "metadata":{},
   "source":[
    "In order to relate all this back to the original coordinates on X, we use the description of pi, that expresses $X,Y,T$ in terms of $X,V,W$, and since we have the latter as power series, we can substitute them to get the required results."
   ]
  },
  {
   "cell_type":"code",
   "metadata":{},
   "outputs":[],
   "source":[
    "Xu:=Evaluate(DefiningPolynomials(pi)[1], [Tu, Vu, Wu]);\n",
    "Tu:=Evaluate(DefiningPolynomials(pi)[3], [Tu, Vu, Wu]);"
   ]
  },
  {
   "cell_type":"code",
   "metadata":{},
   "outputs":[],
   "source":[
    "Residues := ComputeAllInterestingResidues(Xu, Tu, false);\n",
    "ResidueArray[-1][4]:=Residues;"
   ]
  },
  {
   "cell_type":"markdown",
   "metadata":{},
   "source":[
    "### Computing residues at ((0, 0), 1) "
   ]
  },
  {
   "cell_type":"markdown",
   "metadata":{},
   "source":[
    "#### Component 1"
   ]
  },
  {
   "cell_type":"markdown",
   "metadata":{},
   "source":[
    "Here we compute the residues over the original component $\\mathcal{E}_1$."
   ]
  },
  {
   "cell_type":"code",
   "metadata":{},
   "outputs":[],
   "source":[
    "A2<x2,y2>:=AffinePlane(Rationals());\n",
    "L:=Curve(A2, Evaluate(DefiningPolynomial(E), [x2,y2,1]));\n",
    "L;"
   ]
  },
  {
   "cell_type":"markdown",
   "metadata":{},
   "source":[
    "We define a rational function field that we use to parametrize the exceptional component L with"
   ]
  },
  {
   "cell_type":"code",
   "metadata":{},
   "outputs":[],
   "source":[
    "Q<U>:=FunctionField(Rationals(), 1);\n",
    "R<y>:=PolynomialRing(Q);\n",
    "kU<a>:=quo<R | y^2-U-48>;"
   ]
  },
  {
   "cell_type":"markdown",
   "metadata":{},
   "source":[
    "We write down a parametrization of L and check that it satisfies that parametrization. In particular, we see that \"V\" on Y vanishes on L (we'll see we can use it as a uniformizer at the generic point of L)"
   ]
  },
  {
   "cell_type":"code",
   "metadata":{},
   "outputs":[],
   "source":[
    "Xu:=U;\n",
    "Yu:=U*a;\n",
    "assert forall{f: f in DefiningPolynomials(L) |Evaluate(f,[Xu,Yu]) eq 0};"
   ]
  },
  {
   "cell_type":"code",
   "metadata":{},
   "outputs":[],
   "source":[
    "kUV<Vu>:=PowerSeriesRing(kU);\n",
    "Tu:=Vu+1;"
   ]
  },
  {
   "cell_type":"code",
   "metadata":{},
   "outputs":[],
   "source":[
    "Residues := ComputeAllInterestingResidues(Xu, Tu, false);\n",
    "ResidueArray[1]:=AssociativeArray(Integers());\n",
    "ResidueArray[1][1]:=Residues;"
   ]
  },
  {
   "cell_type":"markdown",
   "metadata":{},
   "source":[
    "#### Component 2"
   ]
  },
  {
   "cell_type":"markdown",
   "metadata":{},
   "source":[
    "Here we unpack the equations for the first exceptional component L on a patch Y of the desingularization $\\tilde{\\mathcal{E}}$ of $\\mathcal{E}$ over $((0,0), 1)$, together with the blowdown morphism $\\pi: Y \\to \\mathcal{E}$."
   ]
  },
  {
   "cell_type":"code",
   "metadata":{},
   "outputs":[],
   "source":[
    "L,Y,pi:=BlowUpDivisor(E,Etilde[4],1);"
   ]
  },
  {
   "cell_type":"markdown",
   "metadata":{},
   "source":[
    "Looking at the equation of $L$ we note that it has no rational points and is geometrically reducible. This means that the residue field $k(L)$ will be of the form $k(u)$ with $k$ some finite extension of $\\mathbb{Q}$; in our case $k=\\mathbb{Q}(\\sqrt{48})=\\mathbb{Q}(\\sqrt{3})$."
   ]
  },
  {
   "cell_type":"code",
   "metadata":{},
   "outputs":[],
   "source":[
    "A3<X,V,W>:=Ambient(Y);\n",
    "L;"
   ]
  },
  {
   "cell_type":"markdown",
   "metadata":{},
   "source":[
    "Note that $L:V^2-48=0, X=0$ has no rational points and is geometrically reducible. In particular, one can work out that the residue field is $\\kappa(L)=k(W)$ where $k=\\mathbb{Q}(a)$ and $a$ is a square root of $3$. Below we define the extension $k/\\mathbb{Q}$ as well as a rational function field that we will use to parametrize the exceptional component L with."
   ]
  },
  {
   "cell_type":"code",
   "metadata":{},
   "outputs":[],
   "source":[
    "k<a>:=QuadraticField(48);\n",
    "kU<U>:=FunctionField(k,1);\n",
    "Wu:=U;"
   ]
  },
  {
   "cell_type":"code",
   "metadata":{},
   "outputs":[],
   "source":[
    "kUX<Xu>:=PowerSeriesRing(kU);"
   ]
  },
  {
   "cell_type":"code",
   "metadata":{},
   "outputs":[],
   "source":[
    "R<Vpol>:=PolynomialRing(kUX);"
   ]
  },
  {
   "cell_type":"markdown",
   "metadata":{},
   "source":[
    "By definition we have an expression for $X$ and $W$ in $k(U)(Xu)$ as $W=U$ and $X=Xu$. It remains to find an expansion for $V$. From our observations above we note that when taking residues $\\overline{V}=4a=4\\sqrt{3}\\in k(W)$, as we mod out by $V^2-48$, and so we have a first order approximation. Applying Newton iteration gives us enough terms to compute residues."
   ]
  },
  {
   "cell_type":"code",
   "metadata":{},
   "outputs":[],
   "source":[
    "F:=Evaluate(DefiningPolynomial(Y), [Xu, Vpol, Wu]);\n",
    "Fprime:=Derivative(F);\n",
    "Vu:=4*a;\n",
    "for i in [1..4] do\n",
    "    Temp:=Vu-Evaluate(F, Vu)/Evaluate(Fprime,Vu);\n",
    "    Vu:=Temp;\n",
    "end for;"
   ]
  },
  {
   "cell_type":"markdown",
   "metadata":{},
   "source":[
    "We verify that the power series $Xu,Vu,Wu$ in $k(U)[[Xu]]$ that we have computed, indeed satisfy the defining polynomial for $Y$."
   ]
  },
  {
   "cell_type":"code",
   "metadata":{
    "scrolled":true
   },
   "outputs":[],
   "source":[
    "Evaluate(DefiningPolynomial(Y),[Xu,Vu,Wu])+O(Xu^10);"
   ]
  },
  {
   "cell_type":"markdown",
   "metadata":{},
   "source":[
    "In order to relate all this back to the original coordinates on X, we use the description of pi, that expresses $X,Y,T$ in terms of $X,V,W$, and since we have the latter as power series, we can substitute them to get the required results."
   ]
  },
  {
   "cell_type":"code",
   "metadata":{},
   "outputs":[],
   "source":[
    "Xu:=Evaluate(DefiningPolynomials(pi)[1], [Xu, Vu, Wu]);\n",
    "Tu:=Evaluate(DefiningPolynomials(pi)[3], [Xu, Vu, Wu]);"
   ]
  },
  {
   "cell_type":"code",
   "metadata":{},
   "outputs":[],
   "source":[
    "Residues := ComputeAllInterestingResidues(Xu, Tu, false);\n",
    "ResidueArray[1][2]:=Residues;\n",
    "Residues;"
   ]
  },
  {
   "cell_type":"markdown",
   "metadata":{},
   "source":[
    "#### Component 3"
   ]
  },
  {
   "cell_type":"markdown",
   "metadata":{},
   "source":[
    "Here we unpack the equations for the second exceptional component L on a patch Y of the desingularization $\\tilde{\\mathcal{E}}$ of $\\mathcal{E}$ over $((0,0), 1)$, together with the blowdown morphism $\\pi: Y \\to \\mathcal{E}$."
   ]
  },
  {
   "cell_type":"code",
   "metadata":{},
   "outputs":[],
   "source":[
    "L,Y,pi:=BlowUpDivisor(E,Etilde[4],2);"
   ]
  },
  {
   "cell_type":"markdown",
   "metadata":{},
   "source":[
    "Looking at the equation of $L$ we note that it has no rational points and is geometrically reducible. This means that the residue field $k(L)$ will be of the form $k(u)$ with $k$ some finite extension of $\\mathbb{Q}$; in our case $k=\\mathbb{Q}(\\sqrt{48})=\\mathbb{Q}(\\sqrt{3})$."
   ]
  },
  {
   "cell_type":"code",
   "metadata":{},
   "outputs":[],
   "source":[
    "A3<X,V,W>:=Ambient(Y);\n",
    "L;"
   ]
  },
  {
   "cell_type":"markdown",
   "metadata":{},
   "source":[
    "We define the extension $k/\\mathbb{Q}$ as well as a rational function field that we will use to parametrize the exceptional component L with."
   ]
  },
  {
   "cell_type":"code",
   "metadata":{},
   "outputs":[],
   "source":[
    "k<a>:=QuadraticField(48);\n",
    "kU<U>:=FunctionField(k,1);\n",
    "Vu:=U;"
   ]
  },
  {
   "cell_type":"code",
   "metadata":{},
   "outputs":[],
   "source":[
    "kUX<Xu>:=PowerSeriesRing(kU);"
   ]
  },
  {
   "cell_type":"code",
   "metadata":{},
   "outputs":[],
   "source":[
    "R<Wpol>:=PolynomialRing(kUX);"
   ]
  },
  {
   "cell_type":"markdown",
   "metadata":{},
   "source":[
    "By definition we have an expression for $X$ and $W$ in $k(U)(Xu)$ as $W=U$ and $X=Xu$. It remains to find an expansion for $V$. We note that when taking residues we have $\\overline{V}=4a=4\\sqrt{3}$, as we mod out by $V^2-48$, and so we have a first order approximation. Applying Newton iteration gives us enough terms to compute residues."
   ]
  },
  {
   "cell_type":"code",
   "metadata":{},
   "outputs":[],
   "source":[
    "F:=Evaluate(DefiningPolynomial(Y), [Xu, Vu, Wpol]);\n",
    "Fprime:=Derivative(F);\n",
    "Wu:=4*a;\n",
    "for i in [1..4] do\n",
    "    Temp:=Wu-Evaluate(F, Wu)/Evaluate(Fprime,Wu);\n",
    "    Wu:=Temp;\n",
    "end for;"
   ]
  },
  {
   "cell_type":"markdown",
   "metadata":{},
   "source":[
    "We verify that the power series $Xu,Vu,Wu$ in $k(U)[[Xu]]$ that we have computed, indeed satisfy the defining polynomial for $Y$."
   ]
  },
  {
   "cell_type":"code",
   "metadata":{
    "scrolled":true
   },
   "outputs":[],
   "source":[
    "Evaluate(DefiningPolynomial(Y),[Xu,Vu,Wu])+O(Xu^10);"
   ]
  },
  {
   "cell_type":"markdown",
   "metadata":{},
   "source":[
    "In order to relate all this back to the original coordinates on X, we use the description of pi, that expresses $X,Y,T$ in terms of $X,V,W$, and since we have the latter as power series, we can substitute them to get the required results."
   ]
  },
  {
   "cell_type":"code",
   "metadata":{},
   "outputs":[],
   "source":[
    "Xu:=Evaluate(DefiningPolynomials(pi)[1], [Xu, Vu, Wu]);\n",
    "Tu:=Evaluate(DefiningPolynomials(pi)[3], [Xu, Vu, Wu]);"
   ]
  },
  {
   "cell_type":"code",
   "metadata":{},
   "outputs":[],
   "source":[
    "Residues := ComputeAllInterestingResidues(Xu, Tu, false);\n",
    "ResidueArray[1][3]:=Residues;"
   ]
  },
  {
   "cell_type":"markdown",
   "metadata":{},
   "source":[
    "#### Component 4"
   ]
  },
  {
   "cell_type":"markdown",
   "metadata":{},
   "source":[
    "Here we unpack the equations for the third exceptional component L on a patch Y of the desingularization $\\tilde{\\mathcal{E}}$ of $\\mathcal{E}$ over $((0,0), 1)$, together with the blowdown morphism $\\pi: Y \\to \\mathcal{E}$."
   ]
  },
  {
   "cell_type":"code",
   "metadata":{},
   "outputs":[],
   "source":[
    "L,Y,pi:=BlowUpDivisor(E,Etilde[4],3);"
   ]
  },
  {
   "cell_type":"code",
   "metadata":{},
   "outputs":[],
   "source":[
    "A3<T,V,W>:=Ambient(Y);\n",
    "L;"
   ]
  },
  {
   "cell_type":"markdown",
   "metadata":{},
   "source":[
    "We write down a parametrization of our conic $L$. For the parametrization below we took the projective closure and projected away from the rational point $[0,0,1]$."
   ]
  },
  {
   "cell_type":"code",
   "metadata":{},
   "outputs":[],
   "source":[
    "kU<U>:=FunctionField(Rationals(), 1);\n",
    "Vu:=(-6*U^2-1/8)/(-U^2+1/48)+6;\n",
    "Wu:=-12*U/(-U^2+1/48);\n",
    "assert forall{f: f in DefiningPolynomials(L) |Evaluate(f,[1,Vu,Wu]) eq 0};"
   ]
  },
  {
   "cell_type":"code",
   "metadata":{},
   "outputs":[],
   "source":[
    "kUT<Tu>:=PowerSeriesRing(kU);"
   ]
  },
  {
   "cell_type":"code",
   "metadata":{},
   "outputs":[],
   "source":[
    "R<Wpol>:=PolynomialRing(kUT);"
   ]
  },
  {
   "cell_type":"markdown",
   "metadata":{},
   "source":[
    "Now we compute an expansion for $W$ in $\\mathbb{Q}(U)[[T]]$."
   ]
  },
  {
   "cell_type":"code",
   "metadata":{},
   "outputs":[],
   "source":[
    "F:=Evaluate(DefiningPolynomial(Y), [Tu+1, Vu, Wpol]);\n",
    "Fprime:=Derivative(F);\n",
    "for i in [1..4] do\n",
    "    Temp:=Wu-Evaluate(F, Wu)/Evaluate(Fprime,Wu);\n",
    "    Wu:=Temp;\n",
    "end for;"
   ]
  },
  {
   "cell_type":"markdown",
   "metadata":{},
   "source":[
    "We verify that the power series $Tu-1,Vu,Wu$ in $k(U)[[Tu]]$ that we have computed, indeed satisfy the defining polynomial for $Y$."
   ]
  },
  {
   "cell_type":"code",
   "metadata":{
    "scrolled":true
   },
   "outputs":[],
   "source":[
    "Evaluate(DefiningPolynomial(Y),[Tu+1,Vu,Wu])+O(Tu^8);"
   ]
  },
  {
   "cell_type":"markdown",
   "metadata":{},
   "source":[
    "In order to relate all this back to the original coordinates on X, we use the description of pi, that expresses $X,Y,T$ in terms of $X,V,W$, and since we have the latter as power series, we can substitute them to get the required results."
   ]
  },
  {
   "cell_type":"code",
   "metadata":{},
   "outputs":[],
   "source":[
    "Xu:=Evaluate(DefiningPolynomials(pi)[1], [Tu, Vu, Wu]);\n",
    "Tu:=Evaluate(DefiningPolynomials(pi)[3], [Tu, Vu, Wu]);"
   ]
  },
  {
   "cell_type":"code",
   "metadata":{},
   "outputs":[],
   "source":[
    "Residues := ComputeAllInterestingResidues(Xu, Tu, false);\n",
    "ResidueArray[1][4]:=Residues;"
   ]
  },
  {
   "cell_type":"markdown",
   "metadata":{},
   "source":[
    "### Computing residue at ((0, 0), 3) "
   ]
  },
  {
   "cell_type":"markdown",
   "metadata":{},
   "source":[
    "#### Component 1"
   ]
  },
  {
   "cell_type":"markdown",
   "metadata":{},
   "source":[
    "Here we compute the residues over the original component $\\mathcal{E}_3$."
   ]
  },
  {
   "cell_type":"code",
   "metadata":{},
   "outputs":[],
   "source":[
    "A2<x2,y2>:=AffinePlane(Rationals());\n",
    "L:=Curve(A2, Evaluate(DefiningPolynomial(E), [x2,y2,3]));\n",
    "L;"
   ]
  },
  {
   "cell_type":"markdown",
   "metadata":{},
   "source":[
    "We define a rational function field that we use to parametrize the exceptional component L with"
   ]
  },
  {
   "cell_type":"code",
   "metadata":{},
   "outputs":[],
   "source":[
    "Q<U>:=FunctionField(Rationals(), 1);\n",
    "R<y>:=PolynomialRing(Q);\n",
    "kU<a>:=quo<R | y^2-U+144>;"
   ]
  },
  {
   "cell_type":"markdown",
   "metadata":{},
   "source":[
    "We write down a parametrization of L and check that it satisfies that parametrization. In particular, we see that \"V\" on Y vanishes on L (we'll see we can use it as a uniformizer at the generic point of L)"
   ]
  },
  {
   "cell_type":"code",
   "metadata":{},
   "outputs":[],
   "source":[
    "Xu:=U;\n",
    "Yu:=U*a;\n",
    "assert forall{f: f in DefiningPolynomials(L) |Evaluate(f,[Xu,Yu]) eq 0};"
   ]
  },
  {
   "cell_type":"code",
   "metadata":{},
   "outputs":[],
   "source":[
    "kUV<Vu>:=PowerSeriesRing(kU);\n",
    "Tu:=Vu+3;"
   ]
  },
  {
   "cell_type":"code",
   "metadata":{},
   "outputs":[],
   "source":[
    "Residues:=ComputeAllInterestingResidues(Xu, Tu, false);\n",
    "ResidueArray[3]:=AssociativeArray(Integers());\n",
    "ResidueArray[3][1]:=Residues;"
   ]
  },
  {
   "cell_type":"markdown",
   "metadata":{},
   "source":[
    "#### Component 2"
   ]
  },
  {
   "cell_type":"markdown",
   "metadata":{},
   "source":[
    "Here we unpack the equations for the first exceptional component L on a patch Y of the desingularization $\\tilde{\\mathcal{E}}$ of $\\mathcal{E}$ over $((0,0), 1)$, together with the blowdown morphism $\\pi: Y \\to \\mathcal{E}$."
   ]
  },
  {
   "cell_type":"code",
   "metadata":{},
   "outputs":[],
   "source":[
    "L,Y,pi:=BlowUpDivisor(E,Etilde[5],1);\n",
    "A3<X,V,W>:=Ambient(Y);"
   ]
  },
  {
   "cell_type":"markdown",
   "metadata":{},
   "source":[
    "We define a rational function field that we use to parametrize the exceptional component L with"
   ]
  },
  {
   "cell_type":"code",
   "metadata":{},
   "outputs":[],
   "source":[
    "kU<U>:=FunctionField(Rationals(),1);\n",
    "L;"
   ]
  },
  {
   "cell_type":"markdown",
   "metadata":{},
   "source":[
    "Below we find a parametrization of $L$."
   ]
  },
  {
   "cell_type":"code",
   "metadata":{},
   "outputs":[],
   "source":[
    "Lc,phiL:=Conic(ProjectiveClosure(L));\n",
    "piL:=Parametrization(Lc);\n",
    "Q<x, v, w>:=FunctionField(L);\n",
    "kU<U>:=FunctionField(Domain(piL));\n",
    "Vu:=Pullback(piL, Pullback(Inverse(phiL), v));\n",
    "Wu:=Pullback(piL, Pullback(Inverse(phiL), w));\n",
    "assert forall{f: f in DefiningPolynomials(L) |Evaluate(f,[0,Vu,Wu]) eq 0};"
   ]
  },
  {
   "cell_type":"code",
   "metadata":{},
   "outputs":[],
   "source":[
    "kUX<Xu>:=PowerSeriesRing(kU);"
   ]
  },
  {
   "cell_type":"code",
   "metadata":{},
   "outputs":[],
   "source":[
    "R<Wpol>:=PolynomialRing(kUX);"
   ]
  },
  {
   "cell_type":"markdown",
   "metadata":{},
   "source":[
    "Here we compute a higher order approximation for $W$ in the power series ring."
   ]
  },
  {
   "cell_type":"code",
   "metadata":{},
   "outputs":[],
   "source":[
    "F:=Evaluate(DefiningPolynomial(Y), [Xu, Vu, Wpol]);\n",
    "Fprime:=Derivative(F);\n",
    "for i in [1..4] do\n",
    "    Temp:=Wu-Evaluate(F, Wu)/Evaluate(Fprime,Wu);\n",
    "    Wu:=Temp;\n",
    "end for;"
   ]
  },
  {
   "cell_type":"markdown",
   "metadata":{},
   "source":[
    "We verify that the power series in $k(U)[[V]]$ that we have computed, indeed satisfy the defining polynomial for $Y$."
   ]
  },
  {
   "cell_type":"code",
   "metadata":{
    "scrolled":true
   },
   "outputs":[],
   "source":[
    "Evaluate(DefiningPolynomial(Y),[Xu,Vu,Wu])+O(Xu^8);"
   ]
  },
  {
   "cell_type":"code",
   "metadata":{},
   "outputs":[],
   "source":[
    "Xu:=Evaluate(DefiningPolynomials(pi)[1], [Xu, Vu, Wu]);\n",
    "Tu:=Evaluate(DefiningPolynomials(pi)[3], [Xu, Vu, Wu]);"
   ]
  },
  {
   "cell_type":"code",
   "metadata":{},
   "outputs":[],
   "source":[
    "Residues := ComputeAllInterestingResidues(Xu, Tu, false);\n",
    "ResidueArray[3][2]:=Residues;"
   ]
  },
  {
   "cell_type":"markdown",
   "metadata":{},
   "source":[
    "### Computing residues at ((3, 0), $\\infty$) "
   ]
  },
  {
   "cell_type":"markdown",
   "metadata":{},
   "source":[
    "#### Component 1"
   ]
  },
  {
   "cell_type":"markdown",
   "metadata":{},
   "source":[
    "Here we compute the residues over the original component $\\mathcal{E}_{\\infty}$."
   ]
  },
  {
   "cell_type":"code",
   "metadata":{},
   "outputs":[],
   "source":[
    "A2<x2,y2>:=AffinePlane(Rationals());\n",
    "L:=Curve(A2, Evaluate(DefiningPolynomial(E_inf), [x2,y2,0]));\n",
    "L;"
   ]
  },
  {
   "cell_type":"markdown",
   "metadata":{},
   "source":[
    "We define a rational function field that we use to parametrize the exceptional component L with"
   ]
  },
  {
   "cell_type":"code",
   "metadata":{},
   "outputs":[],
   "source":[
    "Q<U>:=FunctionField(Rationals(), 1);\n",
    "R<y>:=PolynomialRing(Q);\n",
    "kU<a>:=quo<R | y^2-U^3+6*U^2-9*U>;"
   ]
  },
  {
   "cell_type":"markdown",
   "metadata":{},
   "source":[
    "We write down a parametrization of L and check that it satisfies that parametrization. In particular, we see that \"V\" on Y vanishes on L (we'll see we can use it as a uniformizer at the generic point of L)"
   ]
  },
  {
   "cell_type":"code",
   "metadata":{},
   "outputs":[],
   "source":[
    "Xu:=U;\n",
    "Yu:=a;\n",
    "assert forall{f: f in DefiningPolynomials(L) |Evaluate(f,[Xu,Yu]) eq 0};"
   ]
  },
  {
   "cell_type":"code",
   "metadata":{},
   "outputs":[],
   "source":[
    "kUV<Vu>:=PowerSeriesRing(kU);\n",
    "Su:=Vu;"
   ]
  },
  {
   "cell_type":"code",
   "metadata":{},
   "outputs":[],
   "source":[
    "Residues := ComputeAllInterestingResidues(Xu, Su, true);\n",
    "ResidueArray[10]:=AssociativeArray(Integers());\n",
    "ResidueArray[10][1]:=Residues;"
   ]
  },
  {
   "cell_type":"markdown",
   "metadata":{},
   "source":[
    "#### Component 2"
   ]
  },
  {
   "cell_type":"markdown",
   "metadata":{},
   "source":[
    "Here we unpack the equations for the first exceptional component L on a patch Y of the desingularization $\\tilde{\\mathcal{E}}$ of $\\mathcal{E}$ over $((0,0), 1)$, together with the blowdown morphism $\\pi: Y \\to \\mathcal{E}$."
   ]
  },
  {
   "cell_type":"code",
   "metadata":{},
   "outputs":[],
   "source":[
    "L,Y,pi:=BlowUpDivisor(E_inf,Etilde_inf[1],1);"
   ]
  },
  {
   "cell_type":"markdown",
   "metadata":{},
   "source":[
    "Looking at the equation of $L$ we note that it has no rational points and is geometrically reducible. This means that the residue field $k(L)$ will be of the form $k(u)$ with $k$ some finite extension of $\\mathbb{Q}$; in our case $k=\\mathbb{Q}(\\sqrt{3})$."
   ]
  },
  {
   "cell_type":"code",
   "metadata":{},
   "outputs":[],
   "source":[
    "A3<S,V,W>:=Ambient(Y);\n",
    "L;"
   ]
  },
  {
   "cell_type":"markdown",
   "metadata":{},
   "source":[
    "The variable $S$ corresponds to $1/t$ in our original coordinates."
   ]
  },
  {
   "cell_type":"markdown",
   "metadata":{},
   "source":[
    "Note that $L:V^2-3=0, S=0$ has no rational points and is geometrically reducible. In particular, one can work out that the residue field is $\\kappa(L)=k(W)$ where $k=\\mathbb{Q}(a)$ and $a$ is a square root of $3$. Below we define the extension $k/\\mathbb{Q}$ as well as a rational function field that we will use to parametrize the exceptional component L with."
   ]
  },
  {
   "cell_type":"code",
   "metadata":{},
   "outputs":[],
   "source":[
    "k<a>:=QuadraticField(3);\n",
    "kU<U>:=FunctionField(k,1);\n",
    "Wu:=U;"
   ]
  },
  {
   "cell_type":"code",
   "metadata":{},
   "outputs":[],
   "source":[
    "kUS<Su>:=PowerSeriesRing(kU);"
   ]
  },
  {
   "cell_type":"code",
   "metadata":{},
   "outputs":[],
   "source":[
    "R<Vpol>:=PolynomialRing(kUS);"
   ]
  },
  {
   "cell_type":"markdown",
   "metadata":{},
   "source":[
    "By definition we have an expression for $S$ and $W$ in $k(U)(Su)$ as $W=U$ and $S=Xu$. It remains to find an expansion for $V$. From our observations above we note that when taking residues $\\overline{V}=a=\\sqrt{3}\\in k(W)$, as we mod out by $V^2-3$, and so we have a first order approximation. Applying Newton iteration gives us enough terms to compute residues."
   ]
  },
  {
   "cell_type":"code",
   "metadata":{},
   "outputs":[],
   "source":[
    "F:=Evaluate(DefiningPolynomial(Y), [Su, Vpol, Wu]);\n",
    "Fprime:=Derivative(F);\n",
    "Vu:=a;\n",
    "for i in [1..4] do\n",
    "    Temp:=Vu-Evaluate(F, Vu)/Evaluate(Fprime,Vu);\n",
    "    Vu:=Temp;\n",
    "end for;"
   ]
  },
  {
   "cell_type":"markdown",
   "metadata":{},
   "source":[
    "We verify that the power series $Su,Vu,Wu$ in $k(U)[[Su]]$ that we have computed, indeed satisfy the defining polynomial for $Y$."
   ]
  },
  {
   "cell_type":"code",
   "metadata":{
    "scrolled":true
   },
   "outputs":[],
   "source":[
    "Evaluate(DefiningPolynomial(Y),[Su,Vu,Wu])+O(Su^10);"
   ]
  },
  {
   "cell_type":"markdown",
   "metadata":{},
   "source":[
    "In order to relate all this back to the original coordinates on $E$, we use the description of pi, that expresses $X,Y,T$ in terms of $X,V,W$, and since we have the latter as power series, we can substitute them to get the required results."
   ]
  },
  {
   "cell_type":"code",
   "metadata":{},
   "outputs":[],
   "source":[
    "Xu:=Evaluate(DefiningPolynomials(pi)[1], [Su, Vu, Wu]);\n",
    "Su:=Evaluate(DefiningPolynomials(pi)[3], [Su, Vu, Wu]);"
   ]
  },
  {
   "cell_type":"code",
   "metadata":{},
   "outputs":[],
   "source":[
    "Residues := ComputeAllInterestingResidues(Xu, Su, true);\n",
    "ResidueArray[10][2]:=Residues;"
   ]
  },
  {
   "cell_type":"markdown",
   "metadata":{},
   "source":[
    "#### Patch 3"
   ]
  },
  {
   "cell_type":"markdown",
   "metadata":{},
   "source":[
    "Here we unpack the equations for the second exceptional component L on a patch Y of the desingularization $\\tilde{\\mathcal{E}}$ of $\\mathcal{E}$ over $((0,0), 1)$, together with the blowdown morphism $\\pi: Y \\to \\mathcal{E}$."
   ]
  },
  {
   "cell_type":"code",
   "metadata":{},
   "outputs":[],
   "source":[
    "L,Y,pi:=BlowUpDivisor(E_inf,Etilde_inf[1],2);"
   ]
  },
  {
   "cell_type":"markdown",
   "metadata":{},
   "source":[
    "Looking at the equation of $L$ we note that it has no rational points and is geometrically reducible. This means that the residue field $k(L)$ will be of the form $k(u)$ with $k$ some finite extension of $\\mathbb{Q}$; in our case $k=\\mathbb{Q}(\\sqrt{3})$."
   ]
  },
  {
   "cell_type":"code",
   "metadata":{},
   "outputs":[],
   "source":[
    "A3<S,V,W>:=Ambient(Y);\n",
    "L;\n",
    "Factorization(972);"
   ]
  },
  {
   "cell_type":"markdown",
   "metadata":{},
   "source":[
    "Here we see that $L:W^2/972-(V+1/18)^2=0$ and therefore $L$ reducible to the product of two lines over $\\mathbb{Q}(\\sqrt{972})=\\mathbb{Q}(\\sqrt{3})$. Thus the residue field $\\kappa(L)$ is $\\mathbb{Q}(\\sqrt{3})(U)$ with $U=V$."
   ]
  },
  {
   "cell_type":"code",
   "metadata":{},
   "outputs":[],
   "source":[
    "k<a>:=QuadraticField(3);\n",
    "kU<U>:=FunctionField(k,1);\n",
    "Vu:=U;\n",
    "Wu:=(18*Vu+1)*a;"
   ]
  },
  {
   "cell_type":"code",
   "metadata":{},
   "outputs":[],
   "source":[
    "kUS<Su>:=PowerSeriesRing(kU);"
   ]
  },
  {
   "cell_type":"code",
   "metadata":{},
   "outputs":[],
   "source":[
    "R<Wpol>:=PolynomialRing(kUS);"
   ]
  },
  {
   "cell_type":"code",
   "metadata":{},
   "outputs":[],
   "source":[
    "F:=Evaluate(DefiningPolynomial(Y), [Su, Vu, Wpol]);\n",
    "Fprime:=Derivative(F);\n",
    "for i in [1..4] do\n",
    "    Temp:=Wu-Evaluate(F, Wu)/Evaluate(Fprime,Wu);\n",
    "    Wu:=Temp;\n",
    "end for;"
   ]
  },
  {
   "cell_type":"markdown",
   "metadata":{},
   "source":[
    "We verify that the power series $Su,Vu,Wu$ in $k(U)[[Su]]$ that we have computed, indeed satisfy the defining polynomial for $Y$."
   ]
  },
  {
   "cell_type":"code",
   "metadata":{
    "scrolled":true
   },
   "outputs":[],
   "source":[
    "Evaluate(DefiningPolynomial(Y),[Su,Vu,Wu])+O(Su^10);"
   ]
  },
  {
   "cell_type":"markdown",
   "metadata":{},
   "source":[
    "In order to relate all this back to the original coordinates on $E$, we use the description of pi, that expresses $X,Y,T$ in terms of $X,V,W$, and since we have the latter as power series, we can substitute them to get the required results."
   ]
  },
  {
   "cell_type":"code",
   "metadata":{},
   "outputs":[],
   "source":[
    "Xu:=Evaluate(DefiningPolynomials(pi)[1], [Su, Vu, Wu]);\n",
    "Su:=Evaluate(DefiningPolynomials(pi)[3], [Su, Vu, Wu]);"
   ]
  },
  {
   "cell_type":"code",
   "metadata":{},
   "outputs":[],
   "source":[
    "Residues:=ComputeAllInterestingResidues(Xu, Su, true);\n",
    "ResidueArray[10][3]:=Residues;"
   ]
  },
  {
   "cell_type":"markdown",
   "metadata":{},
   "source":[
    "#### Component 4"
   ]
  },
  {
   "cell_type":"markdown",
   "metadata":{},
   "source":[
    "Here we unpack the equations for the third exceptional component L on a patch Y of the desingularization $\\tilde{\\mathcal{E}}$ of $\\mathcal{E}$ over $((0,0), 1)$, together with the blowdown morphism $\\pi: Y \\to \\mathcal{E}$."
   ]
  },
  {
   "cell_type":"code",
   "metadata":{},
   "outputs":[],
   "source":[
    "L,Y,pi:=BlowUpDivisor(E_inf,Etilde_inf[1],3);"
   ]
  },
  {
   "cell_type":"code",
   "metadata":{},
   "outputs":[],
   "source":[
    "A3<S,V,W>:=Ambient(Y);\n",
    "L;"
   ]
  },
  {
   "cell_type":"markdown",
   "metadata":{},
   "source":[
    "We write down a parametrization of our conic $L$. For the parametrization below we took the projective closure and projected away from the rational point $[24,0,1]$."
   ]
  },
  {
   "cell_type":"code",
   "metadata":{},
   "outputs":[],
   "source":[
    "kU<U>:=FunctionField(Rationals(), 1);\n",
    "Vu:=(24*U^2+8)/(-U^2+1/3);\n",
    "Wu:=48*U/(-U^2+1/3);\n",
    "assert forall{f: f in DefiningPolynomials(L) |Evaluate(f,[0,Vu,Wu]) eq 0};"
   ]
  },
  {
   "cell_type":"code",
   "metadata":{},
   "outputs":[],
   "source":[
    "kUS<Su>:=PowerSeriesRing(kU);"
   ]
  },
  {
   "cell_type":"code",
   "metadata":{},
   "outputs":[],
   "source":[
    "R<Wpol>:=PolynomialRing(kUS);"
   ]
  },
  {
   "cell_type":"markdown",
   "metadata":{},
   "source":[
    "Now we compute an expansion for $W$ in $\\mathbb{Q}(U)[[S]]$."
   ]
  },
  {
   "cell_type":"code",
   "metadata":{},
   "outputs":[],
   "source":[
    "F:=Evaluate(DefiningPolynomial(Y), [Su, Vu, Wpol]);\n",
    "Fprime:=Derivative(F);\n",
    "for i in [1..4] do\n",
    "    Temp:=Wu-Evaluate(F, Wu)/Evaluate(Fprime,Wu);\n",
    "    Wu:=Temp;\n",
    "end for;"
   ]
  },
  {
   "cell_type":"markdown",
   "metadata":{},
   "source":[
    "We verify that the power series $Su,Vu,Wu$ in $k(U)[[Tu]]$ that we have computed, indeed satisfy the defining polynomial for $Y$."
   ]
  },
  {
   "cell_type":"code",
   "metadata":{
    "scrolled":true
   },
   "outputs":[],
   "source":[
    "Evaluate(DefiningPolynomial(Y),[Su,Vu,Wu])+O(Su^8);"
   ]
  },
  {
   "cell_type":"markdown",
   "metadata":{},
   "source":[
    "In order to relate all this back to the original coordinates on X, we use the description of pi, that expresses $X,Y,S$ in terms of $X,V,W$, and since we have the latter as power series, we can substitute them to get the required results."
   ]
  },
  {
   "cell_type":"code",
   "metadata":{},
   "outputs":[],
   "source":[
    "Xu:=Evaluate(DefiningPolynomials(pi)[1], [Su, Vu, Wu]);\n",
    "Su:=Evaluate(DefiningPolynomials(pi)[3], [Su, Vu, Wu]);"
   ]
  },
  {
   "cell_type":"code",
   "metadata":{},
   "outputs":[],
   "source":[
    "Residues := ComputeAllInterestingResidues(Xu, Su, true);\n",
    "ResidueArray[10][4]:=Residues;"
   ]
  },
  {
   "cell_type":"code",
   "metadata":{},
   "outputs":[],
   "source":[
    "for i in Keys(ResidueArray) do\n",
    "    printf \"singularity t=%o\\n\", i;\n",
    "    for j in Keys(ResidueArray[i]) do\n",
    "        r:=ResidueArray[i][j];\n",
    "        printf \"residues on component %o:\\n\", j;\n",
    "        printf \"x-p:\\n\";\n",
    "        r[1];\n",
    "        printf \"\\nx-q:\\n\";\n",
    "        r[2];\n",
    "        printf \"\\n\";\n",
    "    end for;\n",
    "end for;"
   ]
  },
  {
   "cell_type":"code",
   "metadata":{},
   "outputs":[],
   "source":[]
  }
 ],
 "metadata":{
  "git":{
   "suppress_outputs":true
  },
  "kernelspec":{
   "display_name":"Magma",
   "language":"magma",
   "name":"magma"
  },
  "language_info":{
   "codemirror_mode":"magma",
   "file_extension":".m",
   "mimetype":"text/x-magma",
   "name":"magma",
   "version":"2.24-6"
  }
 },
 "nbformat":4,
 "nbformat_minor":2
}